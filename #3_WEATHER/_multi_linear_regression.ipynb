{
 "cells": [
  {
   "cell_type": "code",
   "execution_count": 8,
   "metadata": {},
   "outputs": [],
   "source": [
    "import tensorflow as tf\n",
    "import numpy as np\n",
    "import pandas as pd\n",
    "import matplotlib.pyplot as plt\n",
    "import random\n",
    "from sklearn.model_selection import train_test_split\n",
    "from sklearn.metrics import r2_score,mean_squared_error\n",
    "from sklearn.metrics import mean_absolute_error"
   ]
  },
  {
   "cell_type": "code",
   "execution_count": 74,
   "metadata": {},
   "outputs": [
    {
     "data": {
      "text/html": [
       "<div>\n",
       "<style scoped>\n",
       "    .dataframe tbody tr th:only-of-type {\n",
       "        vertical-align: middle;\n",
       "    }\n",
       "\n",
       "    .dataframe tbody tr th {\n",
       "        vertical-align: top;\n",
       "    }\n",
       "\n",
       "    .dataframe thead th {\n",
       "        text-align: right;\n",
       "    }\n",
       "</style>\n",
       "<table border=\"1\" class=\"dataframe\">\n",
       "  <thead>\n",
       "    <tr style=\"text-align: right;\">\n",
       "      <th></th>\n",
       "      <th>plant_date</th>\n",
       "      <th>DoY</th>\n",
       "      <th>(delta)PD</th>\n",
       "    </tr>\n",
       "  </thead>\n",
       "  <tbody>\n",
       "    <tr>\n",
       "      <th>0</th>\n",
       "      <td>0.2083</td>\n",
       "      <td>237.2083</td>\n",
       "      <td>-0.1</td>\n",
       "    </tr>\n",
       "    <tr>\n",
       "      <th>1</th>\n",
       "      <td>0.4583</td>\n",
       "      <td>237.4583</td>\n",
       "      <td>-0.1</td>\n",
       "    </tr>\n",
       "    <tr>\n",
       "      <th>2</th>\n",
       "      <td>0.6250</td>\n",
       "      <td>237.6250</td>\n",
       "      <td>-0.1</td>\n",
       "    </tr>\n",
       "    <tr>\n",
       "      <th>3</th>\n",
       "      <td>0.6667</td>\n",
       "      <td>237.6667</td>\n",
       "      <td>-0.1</td>\n",
       "    </tr>\n",
       "    <tr>\n",
       "      <th>4</th>\n",
       "      <td>0.7083</td>\n",
       "      <td>237.7083</td>\n",
       "      <td>-0.1</td>\n",
       "    </tr>\n",
       "    <tr>\n",
       "      <th>...</th>\n",
       "      <td>...</td>\n",
       "      <td>...</td>\n",
       "      <td>...</td>\n",
       "    </tr>\n",
       "    <tr>\n",
       "      <th>407</th>\n",
       "      <td>40.8750</td>\n",
       "      <td>277.8750</td>\n",
       "      <td>-0.1</td>\n",
       "    </tr>\n",
       "    <tr>\n",
       "      <th>408</th>\n",
       "      <td>41.0000</td>\n",
       "      <td>278.0000</td>\n",
       "      <td>-0.1</td>\n",
       "    </tr>\n",
       "    <tr>\n",
       "      <th>409</th>\n",
       "      <td>41.0833</td>\n",
       "      <td>278.0833</td>\n",
       "      <td>-0.1</td>\n",
       "    </tr>\n",
       "    <tr>\n",
       "      <th>410</th>\n",
       "      <td>41.2083</td>\n",
       "      <td>278.2083</td>\n",
       "      <td>-0.1</td>\n",
       "    </tr>\n",
       "    <tr>\n",
       "      <th>411</th>\n",
       "      <td>41.3333</td>\n",
       "      <td>278.3333</td>\n",
       "      <td>-0.1</td>\n",
       "    </tr>\n",
       "  </tbody>\n",
       "</table>\n",
       "<p>412 rows × 3 columns</p>\n",
       "</div>"
      ],
      "text/plain": [
       "     plant_date       DoY  (delta)PD\n",
       "0        0.2083  237.2083       -0.1\n",
       "1        0.4583  237.4583       -0.1\n",
       "2        0.6250  237.6250       -0.1\n",
       "3        0.6667  237.6667       -0.1\n",
       "4        0.7083  237.7083       -0.1\n",
       "..          ...       ...        ...\n",
       "407     40.8750  277.8750       -0.1\n",
       "408     41.0000  278.0000       -0.1\n",
       "409     41.0833  278.0833       -0.1\n",
       "410     41.2083  278.2083       -0.1\n",
       "411     41.3333  278.3333       -0.1\n",
       "\n",
       "[412 rows x 3 columns]"
      ]
     },
     "execution_count": 74,
     "metadata": {},
     "output_type": "execute_result"
    }
   ],
   "source": [
    "data_visualize = pd.read_csv(\"DATE.csv\")\n",
    "\n",
    "data_visualize"
   ]
  },
  {
   "cell_type": "code",
   "execution_count": 100,
   "metadata": {},
   "outputs": [],
   "source": [
    "LEARNING_RATE = 0.001\n",
    "TRAINNING_STEP = 10000\n",
    "DISPLAY_STEP = 1000\n",
    "\n",
    "X_LABLE = len(data_visualize.columns) - 1\n",
    "\n",
    "W_PRED = 0"
   ]
  },
  {
   "cell_type": "code",
   "execution_count": 101,
   "metadata": {},
   "outputs": [],
   "source": [
    "data = np.loadtxt(\"DATE_np.csv\", delimiter = ',', dtype = np.float32)\n",
    "\n",
    "x = data[:, :X_LABLE]\n",
    "y = data[:, [-1]]"
   ]
  },
  {
   "cell_type": "code",
   "execution_count": 102,
   "metadata": {},
   "outputs": [],
   "source": [
    "x_train, x_test, y_train, y_test = train_test_split(x, y, test_size = 0.25, random_state = 42, shuffle = False)\n",
    "\n",
    "w = tf.Variable(tf.random.uniform([X_LABLE, 1], 0, 1))\n",
    "bias = tf.Variable(random.random())"
   ]
  },
  {
   "cell_type": "code",
   "execution_count": 103,
   "metadata": {},
   "outputs": [
    {
     "name": "stdout",
     "output_type": "stream",
     "text": [
      "step: 1000 \n",
      " w: \n",
      " [[ 0.09448382]\n",
      " [-0.00652316]] \n",
      " bias: -0.031823356 \n",
      " loss: 0.5553216 \n",
      "\n",
      "step: 2000 \n",
      " w: \n",
      " [[ 0.03289802]\n",
      " [-0.00258369]] \n",
      " bias: -0.02318091 \n",
      " loss: 0.07329321 \n",
      "\n",
      "step: 3000 \n",
      " w: \n",
      " [[ 0.00584626]\n",
      " [-0.00085336]] \n",
      " bias: -0.019382188 \n",
      " loss: 0.012208803 \n",
      "\n",
      "step: 4000 \n",
      " w: \n",
      " [[ 0.00155528]\n",
      " [-0.0005789 ]] \n",
      " bias: -0.018779546 \n",
      " loss: 0.010969221 \n",
      "\n",
      "step: 5000 \n",
      " w: \n",
      " [[ 0.00140226]\n",
      " [-0.00056911]] \n",
      " bias: -0.01875808 \n",
      " loss: 0.01096774 \n",
      "\n",
      "step: 6000 \n",
      " w: \n",
      " [[ 0.00140177]\n",
      " [-0.00056908]] \n",
      " bias: -0.01875808 \n",
      " loss: 0.010967739 \n",
      "\n",
      "step: 7000 \n",
      " w: \n",
      " [[ 0.00140177]\n",
      " [-0.00056908]] \n",
      " bias: -0.01875808 \n",
      " loss: 0.010967739 \n",
      "\n",
      "step: 8000 \n",
      " w: \n",
      " [[ 0.00140176]\n",
      " [-0.00056908]] \n",
      " bias: -0.01875808 \n",
      " loss: 0.010967739 \n",
      "\n",
      "step: 9000 \n",
      " w: \n",
      " [[ 0.00140176]\n",
      " [-0.00056908]] \n",
      " bias: -0.01875808 \n",
      " loss: 0.010967739 \n",
      "\n",
      "step: 10000 \n",
      " w: \n",
      " [[ 0.00140176]\n",
      " [-0.00056908]] \n",
      " bias: -0.01875808 \n",
      " loss: 0.010967739 \n",
      "\n"
     ]
    }
   ],
   "source": [
    "def compute_loss():\n",
    "    hypothesis = tf.matmul(x_train, w) + bias\n",
    "    loss = tf.reduce_mean((hypothesis - y_train) ** 2)\n",
    "    \n",
    "    return loss\n",
    "\n",
    "optimizer = tf.optimizers.Adam(lr = LEARNING_RATE)\n",
    "\n",
    "for step in range(1, TRAINNING_STEP + 1):\n",
    "    optimizer.minimize(compute_loss, var_list = [w, bias])\n",
    "    \n",
    "    if step % DISPLAY_STEP == 0:\n",
    "        print('step:', step, '\\n', 'w:', '\\n', w.numpy(), '\\n', 'bias:', bias.numpy(), \n",
    "              '\\n', 'loss:', compute_loss().numpy(), '\\n')\n",
    "        \n",
    "        W_PRED = w.numpy()"
   ]
  },
  {
   "cell_type": "code",
   "execution_count": 104,
   "metadata": {},
   "outputs": [],
   "source": [
    "y_hat = tf.matmul(x_test, W_PRED) + bias"
   ]
  },
  {
   "cell_type": "code",
   "execution_count": 105,
   "metadata": {},
   "outputs": [
    {
     "data": {
      "image/png": "[encoded data removed]",
      "text/plain": [
       "<Figure size 432x288 with 1 Axes>"
      ]
     },
     "metadata": {
      "needs_background": "light"
     },
     "output_type": "display_data"
    }
   ],
   "source": [
    "plt.scatter(y_test, y_hat, alpha = 0.4)\n",
    "plt.xlabel('Actual PD')\n",
    "plt.ylabel('Predicted PD')\n",
    "plt.title('Relation of Actual PD - Predicted PD')\n",
    "plt.show()"
   ]
  },
  {
   "cell_type": "code",
   "execution_count": 106,
   "metadata": {},
   "outputs": [
    {
     "name": "stdout",
     "output_type": "stream",
     "text": [
      "RMSE: 0.0669288\n",
      "MAE: 0.03899702\n"
     ]
    }
   ],
   "source": [
    "mse = mean_squared_error(y_test, y_hat)\n",
    "rmse = np.sqrt(mse)\n",
    "\n",
    "print(\"RMSE:\", rmse)\n",
    "print(\"MAE:\", mean_absolute_error(y_test, y_hat))"
   ]
  }
 ],
 "metadata": {
  "kernelspec": {
   "display_name": "Python 3",
   "language": "python",
   "name": "python3"
  },
  "language_info": {
   "codemirror_mode": {
    "name": "ipython",
    "version": 3
   },
   "file_extension": ".py",
   "mimetype": "text/x-python",
   "name": "python",
   "nbconvert_exporter": "python",
   "pygments_lexer": "ipython3",
   "version": "3.7.7"
  }
 },
 "nbformat": 4,
 "nbformat_minor": 4
}
