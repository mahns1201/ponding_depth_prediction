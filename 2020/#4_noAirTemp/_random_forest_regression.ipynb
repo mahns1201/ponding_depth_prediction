{
 "cells": [
  {
   "cell_type": "code",
   "execution_count": 1,
   "metadata": {},
   "outputs": [],
   "source": [
    "import numpy as np\n",
    "import pandas as pd\n",
    "import seaborn as sns\n",
    "import matplotlib.pyplot as plt\n",
    "from sklearn.model_selection import train_test_split\n",
    "from sklearn.ensemble import RandomForestRegressor\n",
    "from sklearn.metrics import r2_score,mean_squared_error\n",
    "from sklearn.metrics import mean_absolute_error"
   ]
  },
  {
   "cell_type": "code",
   "execution_count": 2,
   "metadata": {},
   "outputs": [
    {
     "data": {
      "text/html": [
       "<div>\n",
       "<style scoped>\n",
       "    .dataframe tbody tr th:only-of-type {\n",
       "        vertical-align: middle;\n",
       "    }\n",
       "\n",
       "    .dataframe tbody tr th {\n",
       "        vertical-align: top;\n",
       "    }\n",
       "\n",
       "    .dataframe thead th {\n",
       "        text-align: right;\n",
       "    }\n",
       "</style>\n",
       "<table border=\"1\" class=\"dataframe\">\n",
       "  <thead>\n",
       "    <tr style=\"text-align: right;\">\n",
       "      <th></th>\n",
       "      <th>DAT</th>\n",
       "      <th>WL_Flume (m3/hour)</th>\n",
       "      <th>WL_Flume_OUT (m3/hour)</th>\n",
       "      <th>Solar (W/m2)</th>\n",
       "      <th>Precipitation (mm)</th>\n",
       "      <th>WindSpeed (m/s)</th>\n",
       "      <th>RH (%)</th>\n",
       "      <th>delta PD (mm)</th>\n",
       "    </tr>\n",
       "  </thead>\n",
       "  <tbody>\n",
       "    <tr>\n",
       "      <th>0</th>\n",
       "      <td>164.791667</td>\n",
       "      <td>0.024406</td>\n",
       "      <td>0.156048</td>\n",
       "      <td>42</td>\n",
       "      <td>0.000</td>\n",
       "      <td>1.23</td>\n",
       "      <td>84.90</td>\n",
       "      <td>-0.1</td>\n",
       "    </tr>\n",
       "    <tr>\n",
       "      <th>1</th>\n",
       "      <td>164.833333</td>\n",
       "      <td>0.031719</td>\n",
       "      <td>0.136486</td>\n",
       "      <td>4</td>\n",
       "      <td>0.000</td>\n",
       "      <td>0.79</td>\n",
       "      <td>88.40</td>\n",
       "      <td>-0.1</td>\n",
       "    </tr>\n",
       "    <tr>\n",
       "      <th>2</th>\n",
       "      <td>164.875000</td>\n",
       "      <td>0.031719</td>\n",
       "      <td>0.136486</td>\n",
       "      <td>0</td>\n",
       "      <td>0.000</td>\n",
       "      <td>0.60</td>\n",
       "      <td>90.50</td>\n",
       "      <td>-0.1</td>\n",
       "    </tr>\n",
       "    <tr>\n",
       "      <th>3</th>\n",
       "      <td>164.916667</td>\n",
       "      <td>0.031719</td>\n",
       "      <td>0.060883</td>\n",
       "      <td>0</td>\n",
       "      <td>0.000</td>\n",
       "      <td>0.48</td>\n",
       "      <td>91.50</td>\n",
       "      <td>-0.1</td>\n",
       "    </tr>\n",
       "    <tr>\n",
       "      <th>4</th>\n",
       "      <td>164.958333</td>\n",
       "      <td>0.040201</td>\n",
       "      <td>0.049905</td>\n",
       "      <td>0</td>\n",
       "      <td>1.766</td>\n",
       "      <td>0.72</td>\n",
       "      <td>92.40</td>\n",
       "      <td>0.2</td>\n",
       "    </tr>\n",
       "    <tr>\n",
       "      <th>...</th>\n",
       "      <td>...</td>\n",
       "      <td>...</td>\n",
       "      <td>...</td>\n",
       "      <td>...</td>\n",
       "      <td>...</td>\n",
       "      <td>...</td>\n",
       "      <td>...</td>\n",
       "      <td>...</td>\n",
       "    </tr>\n",
       "    <tr>\n",
       "      <th>2442</th>\n",
       "      <td>267.250000</td>\n",
       "      <td>0.000000</td>\n",
       "      <td>0.000000</td>\n",
       "      <td>0</td>\n",
       "      <td>0.000</td>\n",
       "      <td>0.81</td>\n",
       "      <td>101.16</td>\n",
       "      <td>-0.1</td>\n",
       "    </tr>\n",
       "    <tr>\n",
       "      <th>2443</th>\n",
       "      <td>267.291667</td>\n",
       "      <td>0.000000</td>\n",
       "      <td>0.000000</td>\n",
       "      <td>12</td>\n",
       "      <td>0.000</td>\n",
       "      <td>0.76</td>\n",
       "      <td>101.20</td>\n",
       "      <td>0.0</td>\n",
       "    </tr>\n",
       "    <tr>\n",
       "      <th>2444</th>\n",
       "      <td>267.333333</td>\n",
       "      <td>0.000000</td>\n",
       "      <td>0.000000</td>\n",
       "      <td>82</td>\n",
       "      <td>0.017</td>\n",
       "      <td>0.88</td>\n",
       "      <td>101.22</td>\n",
       "      <td>0.0</td>\n",
       "    </tr>\n",
       "    <tr>\n",
       "      <th>2445</th>\n",
       "      <td>267.375000</td>\n",
       "      <td>0.000000</td>\n",
       "      <td>0.000000</td>\n",
       "      <td>195</td>\n",
       "      <td>0.000</td>\n",
       "      <td>0.76</td>\n",
       "      <td>101.22</td>\n",
       "      <td>0.0</td>\n",
       "    </tr>\n",
       "    <tr>\n",
       "      <th>2446</th>\n",
       "      <td>267.416667</td>\n",
       "      <td>0.000000</td>\n",
       "      <td>0.000000</td>\n",
       "      <td>240</td>\n",
       "      <td>0.000</td>\n",
       "      <td>0.85</td>\n",
       "      <td>101.23</td>\n",
       "      <td>0.0</td>\n",
       "    </tr>\n",
       "  </tbody>\n",
       "</table>\n",
       "<p>2447 rows × 8 columns</p>\n",
       "</div>"
      ],
      "text/plain": [
       "             DAT  WL_Flume (m3/hour)  WL_Flume_OUT (m3/hour)  Solar (W/m2)  \\\n",
       "0     164.791667            0.024406                0.156048            42   \n",
       "1     164.833333            0.031719                0.136486             4   \n",
       "2     164.875000            0.031719                0.136486             0   \n",
       "3     164.916667            0.031719                0.060883             0   \n",
       "4     164.958333            0.040201                0.049905             0   \n",
       "...          ...                 ...                     ...           ...   \n",
       "2442  267.250000            0.000000                0.000000             0   \n",
       "2443  267.291667            0.000000                0.000000            12   \n",
       "2444  267.333333            0.000000                0.000000            82   \n",
       "2445  267.375000            0.000000                0.000000           195   \n",
       "2446  267.416667            0.000000                0.000000           240   \n",
       "\n",
       "      Precipitation (mm)  WindSpeed (m/s)  RH (%)  delta PD (mm)  \n",
       "0                  0.000             1.23   84.90           -0.1  \n",
       "1                  0.000             0.79   88.40           -0.1  \n",
       "2                  0.000             0.60   90.50           -0.1  \n",
       "3                  0.000             0.48   91.50           -0.1  \n",
       "4                  1.766             0.72   92.40            0.2  \n",
       "...                  ...              ...     ...            ...  \n",
       "2442               0.000             0.81  101.16           -0.1  \n",
       "2443               0.000             0.76  101.20            0.0  \n",
       "2444               0.017             0.88  101.22            0.0  \n",
       "2445               0.000             0.76  101.22            0.0  \n",
       "2446               0.000             0.85  101.23            0.0  \n",
       "\n",
       "[2447 rows x 8 columns]"
      ]
     },
     "execution_count": 2,
     "metadata": {},
     "output_type": "execute_result"
    }
   ],
   "source": [
    "data_visualize = pd.read_csv(\"noAirTemp_pd.csv\")\n",
    "\n",
    "data_visualize"
   ]
  },
  {
   "cell_type": "code",
   "execution_count": 3,
   "metadata": {},
   "outputs": [],
   "source": [
    "data = np.loadtxt(\"noAirTemp_np.csv\", delimiter = ',', dtype = np.float32)\n",
    "\n",
    "X_COL = len(data_visualize.columns) - 1\n",
    "\n",
    "x = data[:, :X_COL]\n",
    "y = data[:, [-1]].ravel()\n",
    "\n",
    "x_train, x_test, y_train, y_test = train_test_split(x, y, test_size = 0.25, random_state = 42)"
   ]
  },
  {
   "cell_type": "code",
   "execution_count": 4,
   "metadata": {},
   "outputs": [
    {
     "data": {
      "text/plain": [
       "RandomForestRegressor(n_estimators=1000)"
      ]
     },
     "execution_count": 4,
     "metadata": {},
     "output_type": "execute_result"
    }
   ],
   "source": [
    "RandomForestRegModel = RandomForestRegressor(n_estimators = 1000, criterion = 'mse')\n",
    "RandomForestRegModel.fit(x_train, y_train)"
   ]
  },
  {
   "cell_type": "code",
   "execution_count": 5,
   "metadata": {},
   "outputs": [],
   "source": [
    "y_hat = RandomForestRegModel.predict(x_test)"
   ]
  },
  {
   "cell_type": "code",
   "execution_count": 6,
   "metadata": {},
   "outputs": [
    {
     "data": {
      "image/png": "[encoded data removed]",
      "text/plain": [
       "<Figure size 432x288 with 1 Axes>"
      ]
     },
     "metadata": {
      "needs_background": "light"
     },
     "output_type": "display_data"
    }
   ],
   "source": [
    "plt.scatter(y_test, y_hat, alpha = 0.4)\n",
    "plt.xlabel('Actual PD')\n",
    "plt.ylabel('Predicted PD')\n",
    "plt.title('Actual - Predicted (RBF)')\n",
    "plt.show()"
   ]
  },
  {
   "cell_type": "code",
   "execution_count": 7,
   "metadata": {},
   "outputs": [
    {
     "name": "stdout",
     "output_type": "stream",
     "text": [
      "RMSE: 0.17200144640667378\n",
      "MAE: 0.08099346520477796\n"
     ]
    }
   ],
   "source": [
    "mse = mean_squared_error(y_test, y_hat)\n",
    "rmse = np.sqrt(mse)\n",
    "\n",
    "print(\"RMSE:\", rmse)\n",
    "print(\"MAE:\", mean_absolute_error(y_test, y_hat))"
   ]
  },
  {
   "cell_type": "code",
   "execution_count": null,
   "metadata": {},
   "outputs": [],
   "source": []
  }
 ],
 "metadata": {
  "kernelspec": {
   "display_name": "Python 3",
   "language": "python",
   "name": "python3"
  },
  "language_info": {
   "codemirror_mode": {
    "name": "ipython",
    "version": 3
   },
   "file_extension": ".py",
   "mimetype": "text/x-python",
   "name": "python",
   "nbconvert_exporter": "python",
   "pygments_lexer": "ipython3",
   "version": "3.7.7"
  }
 },
 "nbformat": 4,
 "nbformat_minor": 4
}
