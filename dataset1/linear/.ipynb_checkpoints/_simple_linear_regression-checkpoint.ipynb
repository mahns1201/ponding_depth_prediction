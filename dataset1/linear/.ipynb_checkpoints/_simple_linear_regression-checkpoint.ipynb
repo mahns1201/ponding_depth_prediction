{
 "cells": [
  {
   "cell_type": "code",
   "execution_count": 1,
   "metadata": {},
   "outputs": [],
   "source": [
    "import tensorflow as tf\n",
    "import numpy as np\n",
    "import pandas as pd\n",
    "import matplotlib.pyplot as plt\n",
    "import random"
   ]
  },
  {
   "cell_type": "code",
   "execution_count": 2,
   "metadata": {},
   "outputs": [
    {
     "name": "stdout",
     "output_type": "stream",
     "text": [
      "      WL1(mm)  WL2(mm)  WL3(mm)  WL4 (mm)  WL5 (mm)  Solar (W/m2)  \\\n",
      "0          65      213       94        37        43           415   \n",
      "1          65      211      101        37        43           329   \n",
      "2          66      211      102        36        43           115   \n",
      "3          64      212       88        36        43            31   \n",
      "4          65      210       95        36        43             1   \n",
      "...       ...      ...      ...       ...       ...           ...   \n",
      "1425       39       41       41        36        44           665   \n",
      "1426       39       41       41        36        43           557   \n",
      "1427       39       41       41        37        44           395   \n",
      "1428       39       41       41        36        43           208   \n",
      "1429       39       41       41        36        44            44   \n",
      "\n",
      "      Precipitation (mm)  AirTemp (DegC)  RH (%)  PD (mm)  \n",
      "0                  0.000            34.0      51     70.5  \n",
      "1                  0.000            33.5      67     72.7  \n",
      "2                  0.000            32.8      68     72.4  \n",
      "3                  0.000            30.8      78     72.5  \n",
      "4                  0.000            28.9      87     72.4  \n",
      "...                  ...             ...     ...      ...  \n",
      "1425               0.017            24.9      47     54.9  \n",
      "1426               0.017            24.9      44     54.4  \n",
      "1427               0.000            24.6      43     51.6  \n",
      "1428               0.017            23.9      44     48.6  \n",
      "1429               0.017            22.3      43     46.6  \n",
      "\n",
      "[1430 rows x 10 columns]\n"
     ]
    }
   ],
   "source": [
    "data_display = pd.read_csv(\"parsed_alldata.csv\")\n",
    "\n",
    "print(data_display)"
   ]
  },
  {
   "cell_type": "code",
   "execution_count": 9,
   "metadata": {},
   "outputs": [],
   "source": [
    "learning_rate = 0.01\n",
    "trainning_steps = 20000\n",
    "display_step = 1000\n",
    "\n",
    "w_pred = 0"
   ]
  },
  {
   "cell_type": "code",
   "execution_count": 10,
   "metadata": {},
   "outputs": [],
   "source": [
    "data = np.loadtxt(\"parsed_alldata_np.csv\", delimiter = ',', dtype = np.float32)\n",
    "\n",
    "x_train = data[:1200, [0]]\n",
    "y_train = data[:1200, [-1]]\n",
    "\n",
    "x_test = data[1200:, [0]]\n",
    "y_test = data[1200:, [-1]]\n",
    "\n",
    "w = tf.Variable(random.random())\n",
    "bias = tf.Variable(random.random())"
   ]
  },
  {
   "cell_type": "code",
   "execution_count": 11,
   "metadata": {},
   "outputs": [
    {
     "name": "stdout",
     "output_type": "stream",
     "text": [
      "step: 1000 \n",
      " w: 1.1867733 \n",
      " bias: 7.368809 \n",
      " loss: 280.70193 \n",
      "\n",
      "step: 2000 \n",
      " w: 1.0264964 \n",
      " bias: 15.583849 \n",
      " loss: 205.75896 \n",
      "\n",
      "step: 3000 \n",
      " w: 0.8647825 \n",
      " bias: 23.882195 \n",
      " loss: 142.21797 \n",
      "\n",
      "step: 4000 \n",
      " w: 0.7084011 \n",
      " bias: 31.911201 \n",
      " loss: 92.37332 \n",
      "\n",
      "step: 5000 \n",
      " w: 0.560344 \n",
      " bias: 39.51501 \n",
      " loss: 55.717407 \n",
      "\n",
      "step: 6000 \n",
      " w: 0.42377636 \n",
      " bias: 46.52991 \n",
      " loss: 31.001198 \n",
      "\n",
      "step: 7000 \n",
      " w: 0.30346087 \n",
      " bias: 52.710606 \n",
      " loss: 16.46206 \n",
      "\n",
      "step: 8000 \n",
      " w: 0.206621 \n",
      " bias: 57.685608 \n",
      " loss: 9.684445 \n",
      "\n",
      "step: 9000 \n",
      " w: 0.14201319 \n",
      " bias: 61.004818 \n",
      " loss: 7.6057463 \n",
      "\n",
      "step: 10000 \n",
      " w: 0.112652205 \n",
      " bias: 62.51325 \n",
      " loss: 7.3073235 \n",
      "\n",
      "step: 11000 \n",
      " w: 0.10609344 \n",
      " bias: 62.850212 \n",
      " loss: 7.295849 \n",
      "\n",
      "step: 12000 \n",
      " w: 0.10564222 \n",
      " bias: 62.87338 \n",
      " loss: 7.295796 \n",
      "\n",
      "step: 13000 \n",
      " w: 0.10563817 \n",
      " bias: 62.87367 \n",
      " loss: 7.2957973 \n",
      "\n",
      "step: 14000 \n",
      " w: 0.1056375 \n",
      " bias: 62.873672 \n",
      " loss: 7.2957973 \n",
      "\n",
      "step: 15000 \n",
      " w: 0.105632514 \n",
      " bias: 62.873672 \n",
      " loss: 7.295797 \n",
      "\n",
      "step: 16000 \n",
      " w: 0.10590207 \n",
      " bias: 62.87381 \n",
      " loss: 7.2959666 \n",
      "\n",
      "step: 17000 \n",
      " w: 0.10563724 \n",
      " bias: 62.873672 \n",
      " loss: 7.2957926 \n",
      "\n",
      "step: 18000 \n",
      " w: 0.105637796 \n",
      " bias: 62.873665 \n",
      " loss: 7.295795 \n",
      "\n",
      "step: 19000 \n",
      " w: 0.1056366 \n",
      " bias: 62.87367 \n",
      " loss: 7.2957973 \n",
      "\n",
      "step: 20000 \n",
      " w: 0.1050115 \n",
      " bias: 62.873062 \n",
      " loss: 7.296766 \n",
      "\n"
     ]
    }
   ],
   "source": [
    "def compute_loss():\n",
    "    hypothesis = w * x_train + bias\n",
    "    loss = tf.reduce_mean((y_train - hypothesis) ** 2)\n",
    "    return loss\n",
    "\n",
    "optimizer = tf.optimizers.Adam(lr = learning_rate)\n",
    "\n",
    "for step in range(1, trainning_steps + 1):\n",
    "    optimizer.minimize(compute_loss, var_list = [w, bias])\n",
    "    \n",
    "    if step % display_step == 0:\n",
    "        print('step:', step, '\\n', 'w:', w.numpy(), '\\n', 'bias:', bias.numpy(), \n",
    "              '\\n', 'loss:', compute_loss().numpy(), '\\n')\n",
    "        \n",
    "        w_pred = w.numpy()"
   ]
  },
  {
   "cell_type": "code",
   "execution_count": 12,
   "metadata": {},
   "outputs": [],
   "source": [
    "line_x = np.arange(min(x_test), max(x_test), 0.01)\n",
    "line_y = w * line_x + bias"
   ]
  },
  {
   "cell_type": "code",
   "execution_count": 13,
   "metadata": {
    "scrolled": true
   },
   "outputs": [
    {
     "data": {
      "image/png": "[encoded data removed]",
      "text/plain": [
       "<Figure size 432x288 with 1 Axes>"
      ]
     },
     "metadata": {
      "needs_background": "light"
     },
     "output_type": "display_data"
    }
   ],
   "source": [
    "#plt.figure(figsize = (15, 5))\n",
    "\n",
    "plt.plot(line_x, line_y, 'r-', label = 'Predicted Line')\n",
    "plt.plot(x_test, y_test, 'bo', label = 'WL1')\n",
    "plt.title('wl1-pd relation')\n",
    "plt.xlabel('WL1')\n",
    "plt.ylabel('PD')\n",
    "plt.legend(loc = 'lower right')\n",
    "plt.show()"
   ]
  },
  {
   "cell_type": "code",
   "execution_count": 19,
   "metadata": {},
   "outputs": [
    {
     "data": {
      "image/png": "[encoded data removed]",
      "text/plain": [
       "<Figure size 432x288 with 1 Axes>"
      ]
     },
     "metadata": {
      "needs_background": "light"
     },
     "output_type": "display_data"
    }
   ],
   "source": [
    "# 실제 담수심과 예상 담수심 간 관계.\n",
    "\n",
    "y_hat = w_pred * x_test + bias\n",
    "\n",
    "plt.scatter(y_test, y_hat, alpha = 0.4)\n",
    "plt.xlabel('Actual PD')\n",
    "plt.ylabel('Predicted PD')\n",
    "plt.title('Relation of Actual PD - Predicted PD')\n",
    "plt.show()"
   ]
  },
  {
   "cell_type": "code",
   "execution_count": 18,
   "metadata": {},
   "outputs": [
    {
     "name": "stdout",
     "output_type": "stream",
     "text": [
      "4.876575\n"
     ]
    }
   ],
   "source": [
    "def rmse(x_test, y_test):\n",
    "    y_hat = w_pred * x_test + bias\n",
    "    error = y_hat - y_test\n",
    "    mse = np.mean(error * error)\n",
    "    rmse = np.sqrt(mse)\n",
    "    \n",
    "    return rmse\n",
    "\n",
    "print(rmse(x_test, y_test))"
   ]
  }
 ],
 "metadata": {
  "kernelspec": {
   "display_name": "Python 3",
   "language": "python",
   "name": "python3"
  },
  "language_info": {
   "codemirror_mode": {
    "name": "ipython",
    "version": 3
   },
   "file_extension": ".py",
   "mimetype": "text/x-python",
   "name": "python",
   "nbconvert_exporter": "python",
   "pygments_lexer": "ipython3",
   "version": "3.7.7"
  }
 },
 "nbformat": 4,
 "nbformat_minor": 4
}
