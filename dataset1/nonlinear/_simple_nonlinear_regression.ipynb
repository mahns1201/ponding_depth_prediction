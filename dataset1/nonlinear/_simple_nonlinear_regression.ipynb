{
 "cells": [
  {
   "cell_type": "code",
   "execution_count": 2,
   "metadata": {},
   "outputs": [],
   "source": [
    "import tensorflow as tf\n",
    "import numpy as np\n",
    "import pandas as pd\n",
    "import matplotlib.pyplot as plt\n",
    "import random"
   ]
  },
  {
   "cell_type": "code",
   "execution_count": 3,
   "metadata": {},
   "outputs": [
    {
     "name": "stdout",
     "output_type": "stream",
     "text": [
      "      WL1(mm)  WL2(mm)  WL3(mm)  WL4 (mm)  WL5 (mm)  Solar (W/m2)  \\\n",
      "0          65      213       94        37        43           415   \n",
      "1          65      211      101        37        43           329   \n",
      "2          66      211      102        36        43           115   \n",
      "3          64      212       88        36        43            31   \n",
      "4          65      210       95        36        43             1   \n",
      "...       ...      ...      ...       ...       ...           ...   \n",
      "1425       39       41       41        36        44           665   \n",
      "1426       39       41       41        36        43           557   \n",
      "1427       39       41       41        37        44           395   \n",
      "1428       39       41       41        36        43           208   \n",
      "1429       39       41       41        36        44            44   \n",
      "\n",
      "      Precipitation (mm)  AirTemp (DegC)  RH (%)  PD (mm)  \n",
      "0                  0.000            34.0      51     70.5  \n",
      "1                  0.000            33.5      67     72.7  \n",
      "2                  0.000            32.8      68     72.4  \n",
      "3                  0.000            30.8      78     72.5  \n",
      "4                  0.000            28.9      87     72.4  \n",
      "...                  ...             ...     ...      ...  \n",
      "1425               0.017            24.9      47     54.9  \n",
      "1426               0.017            24.9      44     54.4  \n",
      "1427               0.000            24.6      43     51.6  \n",
      "1428               0.017            23.9      44     48.6  \n",
      "1429               0.017            22.3      43     46.6  \n",
      "\n",
      "[1430 rows x 10 columns]\n"
     ]
    }
   ],
   "source": [
    "data_display = pd.read_csv(\"parsed_alldata.csv\")\n",
    "\n",
    "print(data_display)"
   ]
  },
  {
   "cell_type": "code",
   "execution_count": 13,
   "metadata": {},
   "outputs": [],
   "source": [
    "learning_rate = 0.001\n",
    "trainning_steps = 150000\n",
    "display_step = 10000\n",
    "\n",
    "w1_pred = 0\n",
    "w2_pred = 0"
   ]
  },
  {
   "cell_type": "code",
   "execution_count": 14,
   "metadata": {},
   "outputs": [],
   "source": [
    "data = np.loadtxt(\"parsed_alldata_np.csv\", delimiter = ',', dtype = np.float32)\n",
    "\n",
    "x_train = data[:1200, [0]]\n",
    "y_train = data[:1200, [-1]]\n",
    "\n",
    "x_test = data[1200:, [0]]\n",
    "y_test = data[1200:, [-1]]\n",
    "\n",
    "w1 = tf.Variable(random.random())\n",
    "w2 = tf.Variable(random.random())\n",
    "bias = tf.Variable(random.random())"
   ]
  },
  {
   "cell_type": "code",
   "execution_count": 15,
   "metadata": {},
   "outputs": [
    {
     "name": "stdout",
     "output_type": "stream",
     "text": [
      "step: 10000 \n",
      " w1: -0.015936248 \n",
      " w2: 2.1843634 \n",
      " bias: 3.1901221 \n",
      " loss: 20.080368 \n",
      "\n",
      "step: 20000 \n",
      " w1: -0.014983653 \n",
      " w2: 2.023115 \n",
      " bias: 8.88596 \n",
      " loss: 16.463823 \n",
      "\n",
      "step: 30000 \n",
      " w1: -0.0124418875 \n",
      " w2: 1.6942414 \n",
      " bias: 18.230125 \n",
      " loss: 12.160212 \n",
      "\n",
      "step: 40000 \n",
      " w1: -0.009998509 \n",
      " w2: 1.3780514 \n",
      " bias: 27.213646 \n",
      " loss: 9.088424 \n",
      "\n",
      "step: 50000 \n",
      " w1: -0.0077636437 \n",
      " w2: 1.0889045 \n",
      " bias: 35.42805 \n",
      " loss: 7.1940513 \n",
      "\n",
      "step: 60000 \n",
      " w1: -0.0059811897 \n",
      " w2: 0.85834295 \n",
      " bias: 41.976288 \n",
      " loss: 6.309624 \n",
      "\n",
      "step: 70000 \n",
      " w1: -0.0048957756 \n",
      " w2: 0.7179854 \n",
      " bias: 45.961056 \n",
      " loss: 6.0431137 \n",
      "\n",
      "step: 80000 \n",
      " w1: -0.004388467 \n",
      " w2: 0.6524309 \n",
      " bias: 47.821667 \n",
      " loss: 5.9890676 \n",
      "\n",
      "step: 90000 \n",
      " w1: -0.0041763494 \n",
      " w2: 0.6250115 \n",
      " bias: 48.59983 \n",
      " loss: 5.979765 \n",
      "\n",
      "step: 100000 \n",
      " w1: -0.0040847785 \n",
      " w2: 0.6138241 \n",
      " bias: 48.917477 \n",
      " loss: 5.9784474 \n",
      "\n",
      "step: 110000 \n",
      " w1: -0.004054257 \n",
      " w2: 0.60927576 \n",
      " bias: 49.046417 \n",
      " loss: 5.977954 \n",
      "\n",
      "step: 120000 \n",
      " w1: -0.0040403437 \n",
      " w2: 0.6074374 \n",
      " bias: 49.09859 \n",
      " loss: 5.9779096 \n",
      "\n",
      "step: 130000 \n",
      " w1: -0.00403513 \n",
      " w2: 0.6067601 \n",
      " bias: 49.117783 \n",
      " loss: 5.977901 \n",
      "\n",
      "step: 140000 \n",
      " w1: -0.004034642 \n",
      " w2: 0.606694 \n",
      " bias: 49.119656 \n",
      " loss: 5.9779077 \n",
      "\n",
      "step: 150000 \n",
      " w1: -0.004033651 \n",
      " w2: 0.6065693 \n",
      " bias: 49.123203 \n",
      " loss: 5.977899 \n",
      "\n"
     ]
    }
   ],
   "source": [
    "def compute_loss():\n",
    "    hypothesis = w1 * x_train * x_train + w2 * x_train + bias\n",
    "    loss = tf.reduce_mean((y_train - hypothesis) ** 2)\n",
    "    \n",
    "    return loss\n",
    "\n",
    "optimizer = tf.optimizers.Adam(lr = learning_rate)\n",
    "\n",
    "for step in range(1, trainning_steps + 1):\n",
    "    optimizer.minimize(compute_loss, var_list = [w1, w2, bias])\n",
    "    \n",
    "    if step % display_step == 0:\n",
    "        print('step:', step, '\\n', 'w1:', w1.numpy(), '\\n', 'w2:', w2.numpy(), '\\n', \n",
    "              'bias:', bias.numpy(), '\\n', 'loss:', compute_loss().numpy(), '\\n')\n",
    "        \n",
    "        w1_pred = w1.numpy()\n",
    "        w2_pred = w2.numpy()"
   ]
  },
  {
   "cell_type": "code",
   "execution_count": 32,
   "metadata": {},
   "outputs": [],
   "source": [
    "line_x = np.arange(min(x_test), max(x_test), 0.01)\n",
    "line_y = w1_pred * line_x * line_x + w2_pred * line_x + bias"
   ]
  },
  {
   "cell_type": "code",
   "execution_count": 33,
   "metadata": {},
   "outputs": [
    {
     "data": {
      "image/png": "[encoded data removed]",
      "text/plain": [
       "<Figure size 432x288 with 1 Axes>"
      ]
     },
     "metadata": {
      "needs_background": "light"
     },
     "output_type": "display_data"
    }
   ],
   "source": [
    "#plt.figure(figsize = (15, 5))\n",
    "\n",
    "plt.plot(line_x, line_y, 'r-', label = 'Predicted Line')\n",
    "plt.plot(x_test, y_test, 'bo', label = 'WL1')\n",
    "plt.title('wl1-pd relation')\n",
    "plt.xlabel('WL1')\n",
    "plt.ylabel('PD')\n",
    "plt.legend(loc = 'lower right')\n",
    "plt.show()"
   ]
  },
  {
   "cell_type": "code",
   "execution_count": 34,
   "metadata": {},
   "outputs": [
    {
     "data": {
      "image/png": "[encoded data removed]",
      "text/plain": [
       "<Figure size 432x288 with 1 Axes>"
      ]
     },
     "metadata": {
      "needs_background": "light"
     },
     "output_type": "display_data"
    }
   ],
   "source": [
    "# 실제 담수심과 예상 담수심 간 관계.\n",
    "\n",
    "y_hat = hypothesis = w1_pred * x_test * x_test + w2_pred * x_test + bias\n",
    "\n",
    "plt.scatter(y_test, y_hat, alpha = 0.4)\n",
    "plt.xlabel('Actual PD')\n",
    "plt.ylabel('Predicted PD')\n",
    "plt.title('Relation of Actual PD - Predicted PD')\n",
    "plt.show()"
   ]
  },
  {
   "cell_type": "code",
   "execution_count": 35,
   "metadata": {},
   "outputs": [
    {
     "name": "stdout",
     "output_type": "stream",
     "text": [
      "4.6804376\n"
     ]
    }
   ],
   "source": [
    "def rmse(x_test, y_test):\n",
    "    y_hat = hypothesis = w1_pred * x_test * x_test + w2_pred * x_test + bias\n",
    "    error = y_hat - y_test\n",
    "    mse = np.mean(error * error)\n",
    "    rmse = np.sqrt(mse)\n",
    "    \n",
    "    return rmse\n",
    "\n",
    "print(rmse(x_test, y_test))"
   ]
  }
 ],
 "metadata": {
  "kernelspec": {
   "display_name": "Python 3",
   "language": "python",
   "name": "python3"
  },
  "language_info": {
   "codemirror_mode": {
    "name": "ipython",
    "version": 3
   },
   "file_extension": ".py",
   "mimetype": "text/x-python",
   "name": "python",
   "nbconvert_exporter": "python",
   "pygments_lexer": "ipython3",
   "version": "3.7.7"
  }
 },
 "nbformat": 4,
 "nbformat_minor": 4
}
