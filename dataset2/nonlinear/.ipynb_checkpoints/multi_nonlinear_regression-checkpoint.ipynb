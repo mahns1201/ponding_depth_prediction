{
 "cells": [
  {
   "cell_type": "code",
   "execution_count": 1,
   "metadata": {},
   "outputs": [],
   "source": [
    "import tensorflow as tf\n",
    "import numpy as np\n",
    "import matplotlib.pyplot as plt\n",
    "import random"
   ]
  },
  {
   "cell_type": "code",
   "execution_count": 2,
   "metadata": {},
   "outputs": [],
   "source": [
    "learning_rate = 0.01\n",
    "trainning_steps = 100000\n",
    "display_step = 10000"
   ]
  },
  {
   "cell_type": "code",
   "execution_count": 3,
   "metadata": {},
   "outputs": [],
   "source": [
    "data = np.loadtxt(\"parsed_alldata_np.csv\", delimiter = ',', dtype = np.float32)\n",
    "\n",
    "X = data[:10]\n",
    "Y = data[-1]"
   ]
  },
  {
   "cell_type": "code",
   "execution_count": 4,
   "metadata": {},
   "outputs": [],
   "source": [
    "a = tf.Variable(tf.random.uniform([1, len(X)], 0, 1))\n",
    "b = tf.Variable(tf.random.uniform([1, len(X)], 0, 1))\n",
    "c = tf.Variable(random.random())"
   ]
  },
  {
   "cell_type": "code",
   "execution_count": 5,
   "metadata": {},
   "outputs": [],
   "source": [
    "def compute_loss():\n",
    "    y_pred = tf.matmul(a, X ** X) + tf.matmul(b, X) + c\n",
    "    loss = tf.reduce_mean((Y - y_pred) ** 2)\n",
    "    return loss"
   ]
  },
  {
   "cell_type": "code",
   "execution_count": 6,
   "metadata": {},
   "outputs": [],
   "source": [
    "optimizer = tf.optimizers.Adam(lr = learning_rate)"
   ]
  },
  {
   "cell_type": "code",
   "execution_count": null,
   "metadata": {
    "scrolled": true
   },
   "outputs": [
    {
     "name": "stderr",
     "output_type": "stream",
     "text": [
      "c:\\users\\iars\\appdata\\local\\programs\\python\\python37\\lib\\site-packages\\ipykernel_launcher.py:2: RuntimeWarning: overflow encountered in power\n",
      "  \n"
     ]
    },
    {
     "name": "stdout",
     "output_type": "stream",
     "text": [
      "10000 a: [[nan nan nan nan nan nan nan nan nan nan]] b: [[nan nan nan nan nan nan nan nan nan nan]] c: nan loss: nan\n",
      "20000 a: [[nan nan nan nan nan nan nan nan nan nan]] b: [[nan nan nan nan nan nan nan nan nan nan]] c: nan loss: nan\n",
      "30000 a: [[nan nan nan nan nan nan nan nan nan nan]] b: [[nan nan nan nan nan nan nan nan nan nan]] c: nan loss: nan\n",
      "40000 a: [[nan nan nan nan nan nan nan nan nan nan]] b: [[nan nan nan nan nan nan nan nan nan nan]] c: nan loss: nan\n",
      "50000 a: [[nan nan nan nan nan nan nan nan nan nan]] b: [[nan nan nan nan nan nan nan nan nan nan]] c: nan loss: nan\n",
      "60000 a: [[nan nan nan nan nan nan nan nan nan nan]] b: [[nan nan nan nan nan nan nan nan nan nan]] c: nan loss: nan\n",
      "70000 a: [[nan nan nan nan nan nan nan nan nan nan]] b: [[nan nan nan nan nan nan nan nan nan nan]] c: nan loss: nan\n",
      "80000 a: [[nan nan nan nan nan nan nan nan nan nan]] b: [[nan nan nan nan nan nan nan nan nan nan]] c: nan loss: nan\n"
     ]
    }
   ],
   "source": [
    "for step in range(1, trainning_steps + 1):\n",
    "    optimizer.minimize(compute_loss, var_list = [a, b, c])\n",
    "    \n",
    "    if step % display_step == 0:\n",
    "        print(step, 'a:', a.numpy(), 'b:', b.numpy(), 'c:', c.numpy(), 'loss:', compute_loss().numpy())"
   ]
  },
  {
   "cell_type": "code",
   "execution_count": null,
   "metadata": {},
   "outputs": [],
   "source": []
  }
 ],
 "metadata": {
  "kernelspec": {
   "display_name": "Python 3",
   "language": "python",
   "name": "python3"
  },
  "language_info": {
   "codemirror_mode": {
    "name": "ipython",
    "version": 3
   },
   "file_extension": ".py",
   "mimetype": "text/x-python",
   "name": "python",
   "nbconvert_exporter": "python",
   "pygments_lexer": "ipython3",
   "version": "3.7.7"
  }
 },
 "nbformat": 4,
 "nbformat_minor": 4
}
