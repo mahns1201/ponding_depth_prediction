{
 "cells": [
  {
   "cell_type": "code",
   "execution_count": 1,
   "metadata": {},
   "outputs": [],
   "source": [
    "import tensorflow as tf\n",
    "import numpy as np\n",
    "import pandas as pd\n",
    "import matplotlib.pyplot as plt\n",
    "import random"
   ]
  },
  {
   "cell_type": "code",
   "execution_count": 2,
   "metadata": {},
   "outputs": [
    {
     "name": "stdout",
     "output_type": "stream",
     "text": [
      "      WL1(mm)  WL2(mm)  WL3(mm)  WL4 (mm)  WL5 (mm)  Solar (W/m2)  \\\n",
      "0          65      213       94        37        43           415   \n",
      "1          65      211      101        37        43           329   \n",
      "2          66      211      102        36        43           115   \n",
      "3          64      212       88        36        43            31   \n",
      "4          65      210       95        36        43             1   \n",
      "...       ...      ...      ...       ...       ...           ...   \n",
      "1425       39       41       41        36        44           665   \n",
      "1426       39       41       41        36        43           557   \n",
      "1427       39       41       41        37        44           395   \n",
      "1428       39       41       41        36        43           208   \n",
      "1429       39       41       41        36        44            44   \n",
      "\n",
      "      Precipitation (mm)  AirTemp (DegC)  RH (%)  PD (mm)  \n",
      "0                  0.000            34.0      51     70.5  \n",
      "1                  0.000            33.5      67     72.7  \n",
      "2                  0.000            32.8      68     72.4  \n",
      "3                  0.000            30.8      78     72.5  \n",
      "4                  0.000            28.9      87     72.4  \n",
      "...                  ...             ...     ...      ...  \n",
      "1425               0.017            24.9      47     54.9  \n",
      "1426               0.017            24.9      44     54.4  \n",
      "1427               0.000            24.6      43     51.6  \n",
      "1428               0.017            23.9      44     48.6  \n",
      "1429               0.017            22.3      43     46.6  \n",
      "\n",
      "[1430 rows x 10 columns]\n"
     ]
    }
   ],
   "source": [
    "data_display = pd.read_csv(\"parsed_alldata.csv\")\n",
    "\n",
    "print(data_display)"
   ]
  },
  {
   "cell_type": "code",
   "execution_count": 3,
   "metadata": {},
   "outputs": [],
   "source": [
    "learning_rate = 0.01\n",
    "trainning_steps = 20000\n",
    "display_step = 1000"
   ]
  },
  {
   "cell_type": "code",
   "execution_count": 7,
   "metadata": {},
   "outputs": [],
   "source": [
    "data = np.loadtxt(\"parsed_alldata_np.csv\", delimiter = ',', dtype = np.float32)\n",
    "\n",
    "x_train = data[:1200, [0]]\n",
    "y_train = data[:1200, [-1]]\n",
    "\n",
    "x_test = data[1200:, [0]]\n",
    "y_test = data[1200:, [-1]]\n",
    "\n",
    "w = tf.Variable(random.random())\n",
    "bias = tf.Variable(random.random())"
   ]
  },
  {
   "cell_type": "code",
   "execution_count": 9,
   "metadata": {},
   "outputs": [
    {
     "name": "stdout",
     "output_type": "stream",
     "text": [
      "step: 1000 \n",
      " w: 0.10563602 \n",
      " bias: 0.23941995 \n",
      " loss: 7.2958007 \n",
      "\n",
      "step: 2000 \n",
      " w: 0.1056367 \n",
      " bias: 0.23941995 \n",
      " loss: 7.295791 \n",
      "\n",
      "step: 3000 \n",
      " w: 0.10563101 \n",
      " bias: 0.23941995 \n",
      " loss: 7.2958016 \n",
      "\n",
      "step: 4000 \n",
      " w: 0.10563643 \n",
      " bias: 0.23941995 \n",
      " loss: 7.2958007 \n",
      "\n",
      "step: 5000 \n",
      " w: 0.10544193 \n",
      " bias: 0.23941995 \n",
      " loss: 7.295889 \n",
      "\n",
      "step: 6000 \n",
      " w: 0.1056403 \n",
      " bias: 0.23941995 \n",
      " loss: 7.2957945 \n",
      "\n",
      "step: 7000 \n",
      " w: 0.10563724 \n",
      " bias: 0.23941995 \n",
      " loss: 7.2957983 \n",
      "\n",
      "step: 8000 \n",
      " w: 0.105656855 \n",
      " bias: 0.23941995 \n",
      " loss: 7.2958016 \n",
      "\n",
      "step: 9000 \n",
      " w: 0.10564984 \n",
      " bias: 0.23941995 \n",
      " loss: 7.2957997 \n",
      "\n",
      "step: 10000 \n",
      " w: 0.10563676 \n",
      " bias: 0.23941995 \n",
      " loss: 7.2957993 \n",
      "\n",
      "step: 11000 \n",
      " w: 0.10563677 \n",
      " bias: 0.23941995 \n",
      " loss: 7.2957993 \n",
      "\n",
      "step: 12000 \n",
      " w: 0.10563676 \n",
      " bias: 0.23941995 \n",
      " loss: 7.2957993 \n",
      "\n",
      "step: 13000 \n",
      " w: 0.105636716 \n",
      " bias: 0.23941995 \n",
      " loss: 7.2957993 \n",
      "\n",
      "step: 14000 \n",
      " w: 0.105636716 \n",
      " bias: 0.23941995 \n",
      " loss: 7.2957993 \n",
      "\n",
      "step: 15000 \n",
      " w: 0.105636716 \n",
      " bias: 0.23941995 \n",
      " loss: 7.2957993 \n",
      "\n",
      "step: 16000 \n",
      " w: 0.10563671 \n",
      " bias: 0.23941995 \n",
      " loss: 7.2957993 \n",
      "\n",
      "step: 17000 \n",
      " w: 0.10563676 \n",
      " bias: 0.23941995 \n",
      " loss: 7.2957993 \n",
      "\n",
      "step: 18000 \n",
      " w: 0.10563676 \n",
      " bias: 0.23941995 \n",
      " loss: 7.2957993 \n",
      "\n",
      "step: 19000 \n",
      " w: 0.10563677 \n",
      " bias: 0.23941995 \n",
      " loss: 7.2957993 \n",
      "\n",
      "step: 20000 \n",
      " w: 0.10563677 \n",
      " bias: 0.23941995 \n",
      " loss: 7.2957993 \n",
      "\n"
     ]
    }
   ],
   "source": [
    "def compute_loss():\n",
    "    hypothesis = w * x_train + b\n",
    "    loss = tf.reduce_mean((y_train - hypothesis) ** 2)\n",
    "    return loss\n",
    "\n",
    "optimizer = tf.optimizers.Adam(lr = learning_rate)\n",
    "\n",
    "for step in range(1, trainning_steps + 1):\n",
    "    optimizer.minimize(compute_loss, var_list = [w, b])\n",
    "    \n",
    "    if step % display_step == 0:\n",
    "        print('step:', step, '\\n', 'w:', w.numpy(), '\\n', 'bias:', bias.numpy(), \n",
    "              '\\n', 'loss:', compute_loss().numpy(), '\\n')"
   ]
  },
  {
   "cell_type": "code",
   "execution_count": 10,
   "metadata": {},
   "outputs": [],
   "source": [
    "line_x = np.arange(min(x_test), max(x_test), 0.01)\n",
    "line_y = w * line_x + b"
   ]
  },
  {
   "cell_type": "code",
   "execution_count": 16,
   "metadata": {
    "scrolled": true
   },
   "outputs": [
    {
     "data": {
      "image/png": "[encoded data removed]",
      "text/plain": [
       "<Figure size 432x288 with 1 Axes>"
      ]
     },
     "metadata": {
      "needs_background": "light"
     },
     "output_type": "display_data"
    }
   ],
   "source": [
    "#plt.figure(figsize = (15, 5))\n",
    "\n",
    "plt.plot(line_x, line_y, 'r-', label = 'Predicted Line')\n",
    "plt.plot(x_test, y_test, 'bo', label = 'WL1')\n",
    "plt.title('wl1-pd relation')\n",
    "plt.xlabel('WL1')\n",
    "plt.ylabel('PD')\n",
    "plt.legend(loc = 'lower right')\n",
    "plt.show()"
   ]
  },
  {
   "cell_type": "code",
   "execution_count": 14,
   "metadata": {},
   "outputs": [],
   "source": [
    "def rmse(x_test, y_test):\n",
    "    y_hat = w * x_test + b\n",
    "    error = y_hat - y_test\n",
    "    mse = np.mean(error * error)\n",
    "    rmse = np.sqrt(mse)\n",
    "    \n",
    "    return rmse"
   ]
  },
  {
   "cell_type": "code",
   "execution_count": 15,
   "metadata": {},
   "outputs": [
    {
     "name": "stdout",
     "output_type": "stream",
     "text": [
      "4.892718\n"
     ]
    }
   ],
   "source": [
    "print(rmse(x_test, y_test))"
   ]
  }
 ],
 "metadata": {
  "kernelspec": {
   "display_name": "Python 3",
   "language": "python",
   "name": "python3"
  },
  "language_info": {
   "codemirror_mode": {
    "name": "ipython",
    "version": 3
   },
   "file_extension": ".py",
   "mimetype": "text/x-python",
   "name": "python",
   "nbconvert_exporter": "python",
   "pygments_lexer": "ipython3",
   "version": "3.7.7"
  }
 },
 "nbformat": 4,
 "nbformat_minor": 4
}
