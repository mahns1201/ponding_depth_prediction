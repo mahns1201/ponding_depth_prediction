{
 "cells": [
  {
   "cell_type": "code",
   "execution_count": 1,
   "metadata": {},
   "outputs": [],
   "source": [
    "import tensorflow as tf\n",
    "import numpy as np\n",
    "import pandas as pd\n",
    "import matplotlib.pyplot as plt\n",
    "import random"
   ]
  },
  {
   "cell_type": "code",
   "execution_count": 3,
   "metadata": {},
   "outputs": [
    {
     "data": {
      "text/html": [
       "<div>\n",
       "<style scoped>\n",
       "    .dataframe tbody tr th:only-of-type {\n",
       "        vertical-align: middle;\n",
       "    }\n",
       "\n",
       "    .dataframe tbody tr th {\n",
       "        vertical-align: top;\n",
       "    }\n",
       "\n",
       "    .dataframe thead th {\n",
       "        text-align: right;\n",
       "    }\n",
       "</style>\n",
       "<table border=\"1\" class=\"dataframe\">\n",
       "  <thead>\n",
       "    <tr style=\"text-align: right;\">\n",
       "      <th></th>\n",
       "      <th>WL1(mm)</th>\n",
       "      <th>WL2(mm)</th>\n",
       "      <th>WL3(mm)</th>\n",
       "      <th>WL4 (mm)</th>\n",
       "      <th>WL5 (mm)</th>\n",
       "      <th>Solar (W/m2)</th>\n",
       "      <th>AirTemp (DegC)</th>\n",
       "      <th>RH (%)</th>\n",
       "      <th>y</th>\n",
       "    </tr>\n",
       "  </thead>\n",
       "  <tbody>\n",
       "    <tr>\n",
       "      <th>0</th>\n",
       "      <td>53</td>\n",
       "      <td>208</td>\n",
       "      <td>87</td>\n",
       "      <td>36</td>\n",
       "      <td>44</td>\n",
       "      <td>0</td>\n",
       "      <td>21.9</td>\n",
       "      <td>97</td>\n",
       "      <td>-0.1</td>\n",
       "    </tr>\n",
       "    <tr>\n",
       "      <th>1</th>\n",
       "      <td>59</td>\n",
       "      <td>62</td>\n",
       "      <td>93</td>\n",
       "      <td>36</td>\n",
       "      <td>50</td>\n",
       "      <td>113</td>\n",
       "      <td>22.3</td>\n",
       "      <td>100</td>\n",
       "      <td>-0.1</td>\n",
       "    </tr>\n",
       "    <tr>\n",
       "      <th>2</th>\n",
       "      <td>60</td>\n",
       "      <td>61</td>\n",
       "      <td>93</td>\n",
       "      <td>36</td>\n",
       "      <td>56</td>\n",
       "      <td>152</td>\n",
       "      <td>22.8</td>\n",
       "      <td>100</td>\n",
       "      <td>-0.1</td>\n",
       "    </tr>\n",
       "    <tr>\n",
       "      <th>3</th>\n",
       "      <td>58</td>\n",
       "      <td>60</td>\n",
       "      <td>91</td>\n",
       "      <td>36</td>\n",
       "      <td>51</td>\n",
       "      <td>141</td>\n",
       "      <td>23.3</td>\n",
       "      <td>100</td>\n",
       "      <td>-0.1</td>\n",
       "    </tr>\n",
       "    <tr>\n",
       "      <th>4</th>\n",
       "      <td>57</td>\n",
       "      <td>61</td>\n",
       "      <td>91</td>\n",
       "      <td>36</td>\n",
       "      <td>48</td>\n",
       "      <td>123</td>\n",
       "      <td>23.6</td>\n",
       "      <td>99</td>\n",
       "      <td>-0.1</td>\n",
       "    </tr>\n",
       "    <tr>\n",
       "      <th>...</th>\n",
       "      <td>...</td>\n",
       "      <td>...</td>\n",
       "      <td>...</td>\n",
       "      <td>...</td>\n",
       "      <td>...</td>\n",
       "      <td>...</td>\n",
       "      <td>...</td>\n",
       "      <td>...</td>\n",
       "      <td>...</td>\n",
       "    </tr>\n",
       "    <tr>\n",
       "      <th>408</th>\n",
       "      <td>39</td>\n",
       "      <td>42</td>\n",
       "      <td>42</td>\n",
       "      <td>36</td>\n",
       "      <td>44</td>\n",
       "      <td>0</td>\n",
       "      <td>14.5</td>\n",
       "      <td>93</td>\n",
       "      <td>-0.1</td>\n",
       "    </tr>\n",
       "    <tr>\n",
       "      <th>409</th>\n",
       "      <td>39</td>\n",
       "      <td>42</td>\n",
       "      <td>42</td>\n",
       "      <td>36</td>\n",
       "      <td>44</td>\n",
       "      <td>0</td>\n",
       "      <td>13.9</td>\n",
       "      <td>99</td>\n",
       "      <td>-0.1</td>\n",
       "    </tr>\n",
       "    <tr>\n",
       "      <th>410</th>\n",
       "      <td>39</td>\n",
       "      <td>42</td>\n",
       "      <td>42</td>\n",
       "      <td>36</td>\n",
       "      <td>44</td>\n",
       "      <td>0</td>\n",
       "      <td>14.4</td>\n",
       "      <td>100</td>\n",
       "      <td>-0.1</td>\n",
       "    </tr>\n",
       "    <tr>\n",
       "      <th>411</th>\n",
       "      <td>39</td>\n",
       "      <td>42</td>\n",
       "      <td>42</td>\n",
       "      <td>36</td>\n",
       "      <td>44</td>\n",
       "      <td>0</td>\n",
       "      <td>14.6</td>\n",
       "      <td>98</td>\n",
       "      <td>-0.1</td>\n",
       "    </tr>\n",
       "    <tr>\n",
       "      <th>412</th>\n",
       "      <td>39</td>\n",
       "      <td>42</td>\n",
       "      <td>42</td>\n",
       "      <td>36</td>\n",
       "      <td>44</td>\n",
       "      <td>12</td>\n",
       "      <td>14.6</td>\n",
       "      <td>100</td>\n",
       "      <td>-0.1</td>\n",
       "    </tr>\n",
       "  </tbody>\n",
       "</table>\n",
       "<p>413 rows × 9 columns</p>\n",
       "</div>"
      ],
      "text/plain": [
       "     WL1(mm)  WL2(mm)  WL3(mm)  WL4 (mm)  WL5 (mm)  Solar (W/m2)  \\\n",
       "0         53      208       87        36        44             0   \n",
       "1         59       62       93        36        50           113   \n",
       "2         60       61       93        36        56           152   \n",
       "3         58       60       91        36        51           141   \n",
       "4         57       61       91        36        48           123   \n",
       "..       ...      ...      ...       ...       ...           ...   \n",
       "408       39       42       42        36        44             0   \n",
       "409       39       42       42        36        44             0   \n",
       "410       39       42       42        36        44             0   \n",
       "411       39       42       42        36        44             0   \n",
       "412       39       42       42        36        44            12   \n",
       "\n",
       "     AirTemp (DegC)  RH (%)    y  \n",
       "0              21.9      97 -0.1  \n",
       "1              22.3     100 -0.1  \n",
       "2              22.8     100 -0.1  \n",
       "3              23.3     100 -0.1  \n",
       "4              23.6      99 -0.1  \n",
       "..              ...     ...  ...  \n",
       "408            14.5      93 -0.1  \n",
       "409            13.9      99 -0.1  \n",
       "410            14.4     100 -0.1  \n",
       "411            14.6      98 -0.1  \n",
       "412            14.6     100 -0.1  \n",
       "\n",
       "[413 rows x 9 columns]"
      ]
     },
     "execution_count": 3,
     "metadata": {},
     "output_type": "execute_result"
    }
   ],
   "source": [
    "data_display = pd.read_csv(\"dataset3_pd.csv\")\n",
    "\n",
    "data_display"
   ]
  },
  {
   "cell_type": "code",
   "execution_count": 11,
   "metadata": {},
   "outputs": [],
   "source": [
    "learning_rate = 0.0001\n",
    "trainning_steps = 100000\n",
    "display_step = 10000\n",
    "\n",
    "w_pred = 0"
   ]
  },
  {
   "cell_type": "code",
   "execution_count": 12,
   "metadata": {},
   "outputs": [],
   "source": [
    "data = np.loadtxt(\"dataset3_np.csv\", delimiter = ',', dtype = np.float32)\n",
    "\n",
    "x_train = data[:250, :8]\n",
    "x_test = data[250:, :8]\n",
    "\n",
    "y_train = data[:250, [-1]]\n",
    "y_test = data[250:, [-1]]\n",
    "\n",
    "w1 = tf.Variable(tf.random.uniform([8, 1], 0, 1))\n",
    "w2 = tf.Variable(tf.random.uniform([8, 1], 0, 1))\n",
    "\n",
    "bias = tf.Variable(random.random())"
   ]
  },
  {
   "cell_type": "code",
   "execution_count": 13,
   "metadata": {},
   "outputs": [
    {
     "data": {
      "image/png": "[encoded data removed]",
      "text/plain": [
       "<Figure size 432x288 with 1 Axes>"
      ]
     },
     "metadata": {
      "needs_background": "light"
     },
     "output_type": "display_data"
    },
    {
     "data": {
      "image/png": "[encoded data removed]",
      "text/plain": [
       "<Figure size 432x288 with 1 Axes>"
      ]
     },
     "metadata": {
      "needs_background": "light"
     },
     "output_type": "display_data"
    },
    {
     "data": {
      "image/png": "[encoded data removed]",
      "text/plain": [
       "<Figure size 432x288 with 1 Axes>"
      ]
     },
     "metadata": {
      "needs_background": "light"
     },
     "output_type": "display_data"
    },
    {
     "data": {
      "image/png": "[encoded data removed]",
      "text/plain": [
       "<Figure size 432x288 with 1 Axes>"
      ]
     },
     "metadata": {
      "needs_background": "light"
     },
     "output_type": "display_data"
    },
    {
     "data": {
      "image/png": "[encoded data removed]",
      "text/plain": [
       "<Figure size 432x288 with 1 Axes>"
      ]
     },
     "metadata": {
      "needs_background": "light"
     },
     "output_type": "display_data"
    },
    {
     "data": {
      "image/png": "[encoded data removed]",
      "text/plain": [
       "<Figure size 432x288 with 1 Axes>"
      ]
     },
     "metadata": {
      "needs_background": "light"
     },
     "output_type": "display_data"
    },
    {
     "data": {
      "image/png": "[encoded data removed]",
      "text/plain": [
       "<Figure size 432x288 with 1 Axes>"
      ]
     },
     "metadata": {
      "needs_background": "light"
     },
     "output_type": "display_data"
    },
    {
     "data": {
      "image/png": "[encoded data removed]",
      "text/plain": [
       "<Figure size 432x288 with 1 Axes>"
      ]
     },
     "metadata": {
      "needs_background": "light"
     },
     "output_type": "display_data"
    }
   ],
   "source": [
    "for i in range(8):\n",
    "    plt.scatter(x_train[:, [i]], y_train, alpha=0.4)\n",
    "    plt.show()"
   ]
  },
  {
   "cell_type": "code",
   "execution_count": 14,
   "metadata": {},
   "outputs": [],
   "source": [
    "def compute_loss():\n",
    "    hypothesis = tf.matmul(x_train * x_train, w1) + tf.matmul(x_train, w2) + bias\n",
    "    loss = tf.reduce_mean((y_train - hypothesis) ** 2)\n",
    "    \n",
    "    return loss"
   ]
  },
  {
   "cell_type": "code",
   "execution_count": 15,
   "metadata": {
    "scrolled": false
   },
   "outputs": [
    {
     "name": "stdout",
     "output_type": "stream",
     "text": [
      "step: 10000 \n",
      " w1: [[-0.5215635 ]\n",
      " [-0.31285387]\n",
      " [-0.0383299 ]\n",
      " [-0.301447  ]\n",
      " [-0.2470214 ]\n",
      " [ 0.00866099]\n",
      " [-0.41764036]\n",
      " [ 0.20664793]] \n",
      " w2: [[ 0.1811402 ]\n",
      " [ 0.29238665]\n",
      " [ 0.32018808]\n",
      " [ 0.18356584]\n",
      " [-0.37941274]\n",
      " [-0.06161131]\n",
      " [-0.41743433]\n",
      " [-0.4851904 ]] \n",
      " bias: -0.0050007757 \n",
      " loss: 3519422.8 \n",
      "\n",
      "step: 20000 \n",
      " w1: [[-0.04307163]\n",
      " [ 0.0014685 ]\n",
      " [-0.00787347]\n",
      " [-0.21218444]\n",
      " [ 0.00408379]\n",
      " [ 0.00072105]\n",
      " [-0.31587303]\n",
      " [ 0.05629725]] \n",
      " w2: [[ 0.5095844 ]\n",
      " [ 0.44821164]\n",
      " [ 0.39718843]\n",
      " [ 0.25811306]\n",
      " [-0.23114032]\n",
      " [-0.03182581]\n",
      " [-0.32110715]\n",
      " [-0.5083452 ]] \n",
      " bias: 0.09420695 \n",
      " loss: 14725.187 \n",
      "\n",
      "step: 30000 \n",
      " w1: [[-5.0553591e-03]\n",
      " [-2.0600797e-03]\n",
      " [-4.3022498e-03]\n",
      " [-1.9965453e-02]\n",
      " [-5.5407902e-04]\n",
      " [-1.0296645e-05]\n",
      " [-4.5726858e-03]\n",
      " [ 1.8991774e-03]] \n",
      " w2: [[ 0.5589685 ]\n",
      " [ 0.53564644]\n",
      " [ 0.45460638]\n",
      " [ 0.43605772]\n",
      " [-0.13657784]\n",
      " [ 0.00504517]\n",
      " [-0.06356701]\n",
      " [-0.4380132 ]] \n",
      " bias: 0.23201194 \n",
      " loss: 4.934189 \n",
      "\n",
      "step: 40000 \n",
      " w1: [[-3.4242764e-03]\n",
      " [-1.5852443e-03]\n",
      " [-2.5645311e-03]\n",
      " [-1.0205464e-02]\n",
      " [ 1.3421181e-03]\n",
      " [-5.2123769e-06]\n",
      " [ 1.5986761e-03]\n",
      " [ 2.6685039e-03]] \n",
      " w2: [[ 0.39454794]\n",
      " [ 0.41202378]\n",
      " [ 0.2532933 ]\n",
      " [ 0.37461343]\n",
      " [-0.23756588]\n",
      " [ 0.0022349 ]\n",
      " [-0.10990503]\n",
      " [-0.48979518]] \n",
      " bias: 0.10989625 \n",
      " loss: 1.5133127 \n",
      "\n",
      "step: 50000 \n",
      " w1: [[-2.6009476e-03]\n",
      " [-1.3694505e-03]\n",
      " [-1.6693975e-03]\n",
      " [-6.3069565e-03]\n",
      " [ 2.0123944e-03]\n",
      " [-4.0131104e-06]\n",
      " [ 3.5354749e-03]\n",
      " [ 2.8675795e-03]] \n",
      " w2: [[ 0.30805632]\n",
      " [ 0.3567545 ]\n",
      " [ 0.14627811]\n",
      " [ 0.35662726]\n",
      " [-0.26079288]\n",
      " [ 0.00169086]\n",
      " [-0.12189429]\n",
      " [-0.4918844 ]] \n",
      " bias: 0.07841643 \n",
      " loss: 0.7751715 \n",
      "\n",
      "step: 60000 \n",
      " w1: [[-2.1485921e-03]\n",
      " [-1.2642733e-03]\n",
      " [-1.1621608e-03]\n",
      " [-4.9978001e-03]\n",
      " [ 2.1650845e-03]\n",
      " [-3.4149361e-06]\n",
      " [ 4.0619443e-03]\n",
      " [ 2.8423441e-03]] \n",
      " w2: [[ 0.259033  ]\n",
      " [ 0.3303964 ]\n",
      " [ 0.08348346]\n",
      " [ 0.35644495]\n",
      " [-0.2542125 ]\n",
      " [ 0.00139322]\n",
      " [-0.11920593]\n",
      " [-0.4758319 ]] \n",
      " bias: 0.08310222 \n",
      " loss: 0.5414843 \n",
      "\n",
      "step: 70000 \n",
      " w1: [[-1.8574403e-03]\n",
      " [-1.2050765e-03]\n",
      " [-8.3970395e-04]\n",
      " [-4.7017457e-03]\n",
      " [ 2.1258318e-03]\n",
      " [-3.0338881e-06]\n",
      " [ 4.0442338e-03]\n",
      " [ 2.7374360e-03]] \n",
      " w2: [[ 0.22640014]\n",
      " [ 0.3159522 ]\n",
      " [ 0.04247238]\n",
      " [ 0.36227724]\n",
      " [-0.23803203]\n",
      " [ 0.00120927]\n",
      " [-0.11157835]\n",
      " [-0.45423415]] \n",
      " bias: 0.0998291 \n",
      " loss: 0.42070255 \n",
      "\n",
      "step: 80000 \n",
      " w1: [[-1.6406005e-03]\n",
      " [-1.1652285e-03]\n",
      " [-6.1339280e-04]\n",
      " [-4.7803237e-03]\n",
      " [ 2.0245838e-03]\n",
      " [-2.7621059e-06]\n",
      " [ 3.8325451e-03]\n",
      " [ 2.6100443e-03]] \n",
      " w2: [[ 0.201423  ]\n",
      " [ 0.30642575]\n",
      " [ 0.01328174]\n",
      " [ 0.36951587]\n",
      " [-0.22006667]\n",
      " [ 0.0010817 ]\n",
      " [-0.10282533]\n",
      " [-0.43193194]] \n",
      " bias: 0.119183764 \n",
      " loss: 0.33928704 \n",
      "\n",
      "step: 90000 \n",
      " w1: [[-1.4628755e-03]\n",
      " [-1.1338711e-03]\n",
      " [-4.4399311e-04]\n",
      " [-4.9786307e-03]\n",
      " [ 1.9120600e-03]\n",
      " [-2.5567329e-06]\n",
      " [ 3.5668893e-03]\n",
      " [ 2.4824785e-03]] \n",
      " w2: [[ 0.18057753]\n",
      " [ 0.2989766 ]\n",
      " [-0.00859789]\n",
      " [ 0.37641656]\n",
      " [-0.20321898]\n",
      " [ 0.0009856 ]\n",
      " [-0.09440459]\n",
      " [-0.41075042]] \n",
      " bias: 0.137617 \n",
      " loss: 0.27955535 \n",
      "\n",
      "step: 100000 \n",
      " w1: [[-1.3078315e-03]\n",
      " [-1.1054613e-03]\n",
      " [-3.1081584e-04]\n",
      " [-5.1976391e-03]\n",
      " [ 1.8072692e-03]\n",
      " [-1.4870983e-06]\n",
      " [ 3.3012438e-03]\n",
      " [ 2.3630550e-03]] \n",
      " w2: [[ 0.1622992 ]\n",
      " [ 0.29240927]\n",
      " [-0.02553264]\n",
      " [ 0.38243884]\n",
      " [-0.18832348]\n",
      " [ 0.00090979]\n",
      " [-0.08677199]\n",
      " [-0.39116552]] \n",
      " bias: 0.154046 \n",
      " loss: 0.26950333 \n",
      "\n"
     ]
    }
   ],
   "source": [
    "optimizer = tf.optimizers.Adam(lr = learning_rate)\n",
    "\n",
    "for step in range(1, trainning_steps + 1):\n",
    "    optimizer.minimize(compute_loss, var_list = [w1, w2, bias])\n",
    "    \n",
    "    if step % display_step == 0:\n",
    "        print('step:', step, '\\n', 'w1:', w1.numpy(), '\\n', 'w2:', w2.numpy(), '\\n', \n",
    "              'bias:', bias.numpy(), '\\n', 'loss:', compute_loss().numpy(), '\\n')\n",
    "        \n",
    "        w1_pred = w1.numpy()\n",
    "        w2_pred = w2.numpy()"
   ]
  },
  {
   "cell_type": "code",
   "execution_count": 19,
   "metadata": {},
   "outputs": [],
   "source": [
    "y_hat = tf.matmul(x_test * x_test, w1_pred) + tf.matmul(x_test, w2_pred) + bias"
   ]
  },
  {
   "cell_type": "code",
   "execution_count": 20,
   "metadata": {},
   "outputs": [
    {
     "data": {
      "image/png": "[encoded data removed]",
      "text/plain": [
       "<Figure size 432x288 with 1 Axes>"
      ]
     },
     "metadata": {
      "needs_background": "light"
     },
     "output_type": "display_data"
    }
   ],
   "source": [
    "plt.scatter(y_test, y_hat, alpha = 0.4)\n",
    "plt.xlabel('Actual PD')\n",
    "plt.ylabel('Predicted PD')\n",
    "plt.title('Relation of Actual PD - Predicted PD')\n",
    "plt.show()"
   ]
  },
  {
   "cell_type": "code",
   "execution_count": 21,
   "metadata": {},
   "outputs": [
    {
     "name": "stdout",
     "output_type": "stream",
     "text": [
      "62.74239\n"
     ]
    }
   ],
   "source": [
    "def rmse(x_test, y_test):\n",
    "    y_hat = tf.matmul(x_test * x_test, w1_pred) + tf.matmul(x_test, w2_pred) + bias\n",
    "    error = y_hat - y_test\n",
    "    mse = np.mean(error * error)\n",
    "    rmse = np.sqrt(mse)\n",
    "    \n",
    "    return rmse\n",
    "\n",
    "print(rmse(x_test, y_test))"
   ]
  },
  {
   "cell_type": "code",
   "execution_count": null,
   "metadata": {},
   "outputs": [],
   "source": [
    "# 학습 중간에 loss가 더 낮은 학습 set이 있었다. -> 어떻게 해결하지?"
   ]
  }
 ],
 "metadata": {
  "kernelspec": {
   "display_name": "Python 3",
   "language": "python",
   "name": "python3"
  },
  "language_info": {
   "codemirror_mode": {
    "name": "ipython",
    "version": 3
   },
   "file_extension": ".py",
   "mimetype": "text/x-python",
   "name": "python",
   "nbconvert_exporter": "python",
   "pygments_lexer": "ipython3",
   "version": "3.7.9"
  }
 },
 "nbformat": 4,
 "nbformat_minor": 4
}
