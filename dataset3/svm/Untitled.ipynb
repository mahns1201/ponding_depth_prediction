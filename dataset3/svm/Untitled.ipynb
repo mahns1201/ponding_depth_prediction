{
 "cells": [
  {
   "cell_type": "code",
   "execution_count": 2,
   "metadata": {},
   "outputs": [],
   "source": [
    "import numpy as np"
   ]
  },
  {
   "cell_type": "code",
   "execution_count": 3,
   "metadata": {},
   "outputs": [],
   "source": [
    "X = np.sort(10*np.random.rand(100,1), axis=0) # X : 0-10사이 난수를 100개 생성\n",
    "y = np.sin(X).ravel()                         # y : sin(X)를 통해 비선형 데이터 생성\n",
    "\n",
    "y[::5] +=2*(0.5-np.random.rand(20))           # 일부 y값에 NOISE 추가\n",
    "y[::4] +=3*(0.5-np.random.rand(25))\n",
    "y[::1] +=1*(0.5-np.random.rand(100))"
   ]
  },
  {
   "cell_type": "code",
   "execution_count": 4,
   "metadata": {},
   "outputs": [],
   "source": [
    "def kernel_f(xi, xj, kernel = None, coef0=1.0, degree=3, gamma=0.1):\n",
    "\n",
    "    if kernel == 'linear':                                  # Linear kernel\n",
    "        result = np.dot(xi,xj)+coef0\n",
    "    elif kernel == 'poly':                                  # Polynomial kernel\n",
    "        result = (np.dot(xi,xj)+coef0)**degree\n",
    "    elif kernel == 'rbf':                                   # RBF kernel\n",
    "        result = np.exp(-gamma*np.linalg.norm(xi-xj)**2)\n",
    "    elif kernel =='sigmoid':                                # Sigmoid kernel\n",
    "        result = np.tanh(gamma*np.dot(xi,xj)+coef0)\n",
    "    else:                                                   # Dot product\n",
    "        result = np.dot(xi,xj)\n",
    "\n",
    "    return result"
   ]
  },
  {
   "cell_type": "code",
   "execution_count": 5,
   "metadata": {},
   "outputs": [
    {
     "ename": "SyntaxError",
     "evalue": "positional argument follows keyword argument (<ipython-input-5-4eea2b24c42e>, line 15)",
     "output_type": "error",
     "traceback": [
      "\u001b[1;36m  File \u001b[1;32m\"<ipython-input-5-4eea2b24c42e>\"\u001b[1;36m, line \u001b[1;32m15\u001b[0m\n\u001b[1;33m    row.append(kernel_f(i,j,kernel = 'sigmoid', coef0, gamma))\u001b[0m\n\u001b[1;37m                                               ^\u001b[0m\n\u001b[1;31mSyntaxError\u001b[0m\u001b[1;31m:\u001b[0m positional argument follows keyword argument\n"
     ]
    }
   ],
   "source": [
    "def kernel_matrix(X, kernel, coef0=1.0, degree=3, gamma=0.1):\n",
    "\n",
    "    X = np.array(X,dtype=np.float64)\n",
    "    mat = []\n",
    "    for i in X:\n",
    "        row = []\n",
    "        for j in X:\n",
    "            if kernel=='linear':           \n",
    "                row.append(kernel_f(i, j, kernel = 'linear', coef0))   \n",
    "            elif kernel=='poly':\n",
    "                row.append(kernel_f(i, j, kernel = 'poly', coef0, degree))\n",
    "            elif kernel=='rbf':\n",
    "                row.append(kernel_f(i,j,kernel = 'rbf', gamma))\n",
    "            elif kernel =='sigmoid':\n",
    "                row.append(kernel_f(i,j,kernel = 'sigmoid', coef0, gamma))    \n",
    "            else:\n",
    "                row.append(np.dot(i,j))\n",
    "        mat.append(row)\n",
    "\n",
    "    return mat"
   ]
  },
  {
   "cell_type": "code",
   "execution_count": null,
   "metadata": {},
   "outputs": [],
   "source": []
  }
 ],
 "metadata": {
  "kernelspec": {
   "display_name": "Python 3",
   "language": "python",
   "name": "python3"
  },
  "language_info": {
   "codemirror_mode": {
    "name": "ipython",
    "version": 3
   },
   "file_extension": ".py",
   "mimetype": "text/x-python",
   "name": "python",
   "nbconvert_exporter": "python",
   "pygments_lexer": "ipython3",
   "version": "3.7.7"
  }
 },
 "nbformat": 4,
 "nbformat_minor": 4
}
