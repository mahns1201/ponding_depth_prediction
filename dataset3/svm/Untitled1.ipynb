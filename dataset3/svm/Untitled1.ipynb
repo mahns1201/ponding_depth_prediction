{
 "cells": [
  {
   "cell_type": "code",
   "execution_count": 1,
   "metadata": {},
   "outputs": [],
   "source": [
    "import numpy as np\n",
    "import pandas as pd\n",
    "from sklearn.model_selection import train_test_split\n",
    "from sklearn.svm import SVR\n",
    "from sklearn.metrics import r2_score,mean_squared_error\n",
    "import seaborn as sns\n",
    "import matplotlib.pyplot as plt"
   ]
  },
  {
   "cell_type": "code",
   "execution_count": 2,
   "metadata": {},
   "outputs": [
    {
     "data": {
      "text/html": [
       "<div>\n",
       "<style scoped>\n",
       "    .dataframe tbody tr th:only-of-type {\n",
       "        vertical-align: middle;\n",
       "    }\n",
       "\n",
       "    .dataframe tbody tr th {\n",
       "        vertical-align: top;\n",
       "    }\n",
       "\n",
       "    .dataframe thead th {\n",
       "        text-align: right;\n",
       "    }\n",
       "</style>\n",
       "<table border=\"1\" class=\"dataframe\">\n",
       "  <thead>\n",
       "    <tr style=\"text-align: right;\">\n",
       "      <th></th>\n",
       "      <th>WL1(mm)</th>\n",
       "      <th>WL2(mm)</th>\n",
       "      <th>WL3(mm)</th>\n",
       "      <th>WL4 (mm)</th>\n",
       "      <th>WL5 (mm)</th>\n",
       "      <th>Solar (W/m2)</th>\n",
       "      <th>AirTemp (DegC)</th>\n",
       "      <th>RH (%)</th>\n",
       "    </tr>\n",
       "  </thead>\n",
       "  <tbody>\n",
       "    <tr>\n",
       "      <th>0</th>\n",
       "      <td>53</td>\n",
       "      <td>208</td>\n",
       "      <td>87</td>\n",
       "      <td>36</td>\n",
       "      <td>44</td>\n",
       "      <td>0</td>\n",
       "      <td>21.9</td>\n",
       "      <td>97</td>\n",
       "    </tr>\n",
       "    <tr>\n",
       "      <th>1</th>\n",
       "      <td>59</td>\n",
       "      <td>62</td>\n",
       "      <td>93</td>\n",
       "      <td>36</td>\n",
       "      <td>50</td>\n",
       "      <td>113</td>\n",
       "      <td>22.3</td>\n",
       "      <td>100</td>\n",
       "    </tr>\n",
       "    <tr>\n",
       "      <th>2</th>\n",
       "      <td>60</td>\n",
       "      <td>61</td>\n",
       "      <td>93</td>\n",
       "      <td>36</td>\n",
       "      <td>56</td>\n",
       "      <td>152</td>\n",
       "      <td>22.8</td>\n",
       "      <td>100</td>\n",
       "    </tr>\n",
       "    <tr>\n",
       "      <th>3</th>\n",
       "      <td>58</td>\n",
       "      <td>60</td>\n",
       "      <td>91</td>\n",
       "      <td>36</td>\n",
       "      <td>51</td>\n",
       "      <td>141</td>\n",
       "      <td>23.3</td>\n",
       "      <td>100</td>\n",
       "    </tr>\n",
       "    <tr>\n",
       "      <th>4</th>\n",
       "      <td>57</td>\n",
       "      <td>61</td>\n",
       "      <td>91</td>\n",
       "      <td>36</td>\n",
       "      <td>48</td>\n",
       "      <td>123</td>\n",
       "      <td>23.6</td>\n",
       "      <td>99</td>\n",
       "    </tr>\n",
       "    <tr>\n",
       "      <th>...</th>\n",
       "      <td>...</td>\n",
       "      <td>...</td>\n",
       "      <td>...</td>\n",
       "      <td>...</td>\n",
       "      <td>...</td>\n",
       "      <td>...</td>\n",
       "      <td>...</td>\n",
       "      <td>...</td>\n",
       "    </tr>\n",
       "    <tr>\n",
       "      <th>407</th>\n",
       "      <td>39</td>\n",
       "      <td>42</td>\n",
       "      <td>42</td>\n",
       "      <td>36</td>\n",
       "      <td>44</td>\n",
       "      <td>0</td>\n",
       "      <td>14.5</td>\n",
       "      <td>93</td>\n",
       "    </tr>\n",
       "    <tr>\n",
       "      <th>408</th>\n",
       "      <td>39</td>\n",
       "      <td>42</td>\n",
       "      <td>42</td>\n",
       "      <td>36</td>\n",
       "      <td>44</td>\n",
       "      <td>0</td>\n",
       "      <td>13.9</td>\n",
       "      <td>99</td>\n",
       "    </tr>\n",
       "    <tr>\n",
       "      <th>409</th>\n",
       "      <td>39</td>\n",
       "      <td>42</td>\n",
       "      <td>42</td>\n",
       "      <td>36</td>\n",
       "      <td>44</td>\n",
       "      <td>0</td>\n",
       "      <td>14.4</td>\n",
       "      <td>100</td>\n",
       "    </tr>\n",
       "    <tr>\n",
       "      <th>410</th>\n",
       "      <td>39</td>\n",
       "      <td>42</td>\n",
       "      <td>42</td>\n",
       "      <td>36</td>\n",
       "      <td>44</td>\n",
       "      <td>0</td>\n",
       "      <td>14.6</td>\n",
       "      <td>98</td>\n",
       "    </tr>\n",
       "    <tr>\n",
       "      <th>411</th>\n",
       "      <td>39</td>\n",
       "      <td>42</td>\n",
       "      <td>42</td>\n",
       "      <td>36</td>\n",
       "      <td>44</td>\n",
       "      <td>12</td>\n",
       "      <td>14.6</td>\n",
       "      <td>100</td>\n",
       "    </tr>\n",
       "  </tbody>\n",
       "</table>\n",
       "<p>412 rows × 8 columns</p>\n",
       "</div>"
      ],
      "text/plain": [
       "     WL1(mm)  WL2(mm)  WL3(mm)  WL4 (mm)  WL5 (mm)  Solar (W/m2)  \\\n",
       "0         53      208       87        36        44             0   \n",
       "1         59       62       93        36        50           113   \n",
       "2         60       61       93        36        56           152   \n",
       "3         58       60       91        36        51           141   \n",
       "4         57       61       91        36        48           123   \n",
       "..       ...      ...      ...       ...       ...           ...   \n",
       "407       39       42       42        36        44             0   \n",
       "408       39       42       42        36        44             0   \n",
       "409       39       42       42        36        44             0   \n",
       "410       39       42       42        36        44             0   \n",
       "411       39       42       42        36        44            12   \n",
       "\n",
       "     AirTemp (DegC)  RH (%)  \n",
       "0              21.9      97  \n",
       "1              22.3     100  \n",
       "2              22.8     100  \n",
       "3              23.3     100  \n",
       "4              23.6      99  \n",
       "..              ...     ...  \n",
       "407            14.5      93  \n",
       "408            13.9      99  \n",
       "409            14.4     100  \n",
       "410            14.6      98  \n",
       "411            14.6     100  \n",
       "\n",
       "[412 rows x 8 columns]"
      ]
     },
     "execution_count": 2,
     "metadata": {},
     "output_type": "execute_result"
    }
   ],
   "source": [
    "data = pd.read_csv(\"dataset3_pd.csv\")\n",
    "datadata = pd.read_csv(\"dataset3_pdpd.csv\")\n",
    "\n",
    "\n",
    "datadata"
   ]
  },
  {
   "cell_type": "code",
   "execution_count": 3,
   "metadata": {},
   "outputs": [],
   "source": [
    "x = datadata.values.reshape(-1, 8)\n",
    "y = data.y.values.reshape(-1, 1).ravel()\n",
    "\n",
    "x_train, x_test, y_train, y_test = train_test_split(x, y, test_size = 0.25, shuffle = False)"
   ]
  },
  {
   "cell_type": "code",
   "execution_count": 32,
   "metadata": {},
   "outputs": [
    {
     "data": {
      "text/plain": [
       "SVR(C=100, epsilon=0.0001, gamma='auto', kernel='linear')"
      ]
     },
     "execution_count": 32,
     "metadata": {},
     "output_type": "execute_result"
    }
   ],
   "source": [
    "SupportVectorRegModel = SVR(kernel='linear', C=100, gamma='auto', epsilon=.0001)\n",
    "SupportVectorRegModel.fit(x_train, y_train)"
   ]
  },
  {
   "cell_type": "code",
   "execution_count": 33,
   "metadata": {},
   "outputs": [
    {
     "data": {
      "text/plain": [
       "array([ 5.97858639e-01,  1.37951648e-01,  3.46861501e-03, -6.75493856e-02,\n",
       "       -1.08345437e-01, -1.05324258e-01,  1.05332523e-01,  5.82771369e+00,\n",
       "        4.52216836e+00,  4.80708863e+00,  4.74275617e+00,  1.23837119e+00,\n",
       "        1.65164233e-01, -4.33579800e-02, -3.88262146e-02,  1.45212562e+00,\n",
       "        3.71365285e+00,  1.05228304e+00,  3.17154960e-02,  4.41708253e-02,\n",
       "        1.18443623e+00,  4.43879302e+00,  3.31196723e+00,  3.01520169e-01,\n",
       "        1.79804003e-01,  1.66096115e-02,  1.20778503e-02,  2.60437666e-02,\n",
       "        1.01307507e+00,  1.88286375e+00,  2.97017974e+00,  3.34094135e+00,\n",
       "        1.55190444e+00,  1.64776206e-01,  1.22469561e-01,  3.32260928e-02,\n",
       "        2.71837283e-02,  5.03984843e-02,  2.06854297e-02,  1.16219013e-02,\n",
       "        8.60073185e-03,  7.09013595e-03,  7.09013595e-03,  1.19633028e+00,\n",
       "        5.26576451e+00,  3.04940737e+00, -4.25527236e-01, -6.44605220e-01,\n",
       "       -1.57030070e-01, -1.58540663e-01, -8.78903628e-02, -6.67099743e-02,\n",
       "       -7.12417294e-02, -7.87946791e-02, -8.33264380e-02,  6.51536998e-02,\n",
       "        1.61415469e+00,  2.21848559e+00,  7.31615449e+00,  8.09420541e+00,\n",
       "        9.22489098e+00,  2.66563647e+00,  1.18248294e+00,  1.88610189e-01,\n",
       "       -1.36267991e-01, -1.74042868e-01, -1.68828946e-01, -1.74871287e-01,\n",
       "       -9.27051711e-02, -1.01768690e-01,  1.42375162e+00,  7.04539703e+00,\n",
       "        8.49462913e+00,  3.12569446e+00,  2.54267995e-01, -4.64407657e-02,\n",
       "       -1.31064240e-01, -1.41638351e-01, -1.49191288e-01,  1.12966997e+00,\n",
       "        3.94203365e+00,  3.98996668e+00,  1.22916536e+00,  1.33380250e-01,\n",
       "        6.84046168e-02,  6.45015389e-03,  1.28848488e-01,  1.81739424e-01,\n",
       "        2.95074225e-01,  3.14722035e-01,  4.12707024e-01,  2.80449622e+00,\n",
       "        5.68624390e+00,  6.76440870e+00,  5.21123084e+00,  1.27379263e+00,\n",
       "        5.29482082e-01,  1.93844468e-01, -4.10362845e-03, -1.94498769e-01,\n",
       "       -2.17167770e-01, -1.53702718e-01, -8.50334582e-02])"
      ]
     },
     "execution_count": 33,
     "metadata": {},
     "output_type": "execute_result"
    }
   ],
   "source": [
    "y_pred = SupportVectorRegModel.predict(x_test)\n",
    "y_pred"
   ]
  },
  {
   "cell_type": "code",
   "execution_count": 34,
   "metadata": {},
   "outputs": [
    {
     "data": {
      "image/png": "[encoded data removed]",
      "text/plain": [
       "<Figure size 432x288 with 1 Axes>"
      ]
     },
     "metadata": {
      "needs_background": "light"
     },
     "output_type": "display_data"
    }
   ],
   "source": [
    "plt.scatter(y_test, y_pred, alpha = 0.4)\n",
    "plt.xlabel('Actual PD')\n",
    "plt.ylabel('Predicted PD')\n",
    "plt.title('Relation of Actual PD - Predicted PD')\n",
    "plt.show()"
   ]
  },
  {
   "cell_type": "code",
   "execution_count": 35,
   "metadata": {},
   "outputs": [
    {
     "data": {
      "text/plain": [
       "2.7203031041538672"
      ]
     },
     "execution_count": 35,
     "metadata": {},
     "output_type": "execute_result"
    }
   ],
   "source": [
    "mse = mean_squared_error(y_test, y_pred)\n",
    "rmse = np.sqrt(mse)\n",
    "rmse"
   ]
  },
  {
   "cell_type": "code",
   "execution_count": null,
   "metadata": {},
   "outputs": [],
   "source": []
  }
 ],
 "metadata": {
  "kernelspec": {
   "display_name": "Python 3",
   "language": "python",
   "name": "python3"
  },
  "language_info": {
   "codemirror_mode": {
    "name": "ipython",
    "version": 3
   },
   "file_extension": ".py",
   "mimetype": "text/x-python",
   "name": "python",
   "nbconvert_exporter": "python",
   "pygments_lexer": "ipython3",
   "version": "3.7.7"
  }
 },
 "nbformat": 4,
 "nbformat_minor": 4
}
