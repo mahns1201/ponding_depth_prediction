{
 "cells": [
  {
   "cell_type": "code",
   "execution_count": 92,
   "metadata": {},
   "outputs": [],
   "source": [
    "import numpy as np\n",
    "import pandas as pd\n",
    "from sklearn.model_selection import train_test_split\n",
    "from sklearn.svm import SVR\n",
    "from sklearn.metrics import r2_score,mean_squared_error\n",
    "import seaborn as sns\n",
    "import matplotlib.pyplot as plt"
   ]
  },
  {
   "cell_type": "code",
   "execution_count": 93,
   "metadata": {},
   "outputs": [
    {
     "data": {
      "text/html": [
       "<div>\n",
       "<style scoped>\n",
       "    .dataframe tbody tr th:only-of-type {\n",
       "        vertical-align: middle;\n",
       "    }\n",
       "\n",
       "    .dataframe tbody tr th {\n",
       "        vertical-align: top;\n",
       "    }\n",
       "\n",
       "    .dataframe thead th {\n",
       "        text-align: right;\n",
       "    }\n",
       "</style>\n",
       "<table border=\"1\" class=\"dataframe\">\n",
       "  <thead>\n",
       "    <tr style=\"text-align: right;\">\n",
       "      <th></th>\n",
       "      <th>WL1(mm)</th>\n",
       "      <th>WL2(mm)</th>\n",
       "      <th>WL3(mm)</th>\n",
       "      <th>WL4 (mm)</th>\n",
       "      <th>WL5 (mm)</th>\n",
       "      <th>Solar (W/m2)</th>\n",
       "      <th>AirTemp (DegC)</th>\n",
       "      <th>RH (%)</th>\n",
       "      <th>y</th>\n",
       "    </tr>\n",
       "  </thead>\n",
       "  <tbody>\n",
       "    <tr>\n",
       "      <th>0</th>\n",
       "      <td>124</td>\n",
       "      <td>324</td>\n",
       "      <td>50</td>\n",
       "      <td>38</td>\n",
       "      <td>56</td>\n",
       "      <td>678</td>\n",
       "      <td>25.6</td>\n",
       "      <td>64</td>\n",
       "      <td>-1.0</td>\n",
       "    </tr>\n",
       "    <tr>\n",
       "      <th>1</th>\n",
       "      <td>123</td>\n",
       "      <td>322</td>\n",
       "      <td>50</td>\n",
       "      <td>38</td>\n",
       "      <td>56</td>\n",
       "      <td>550</td>\n",
       "      <td>25.2</td>\n",
       "      <td>66</td>\n",
       "      <td>-2.0</td>\n",
       "    </tr>\n",
       "    <tr>\n",
       "      <th>2</th>\n",
       "      <td>123</td>\n",
       "      <td>322</td>\n",
       "      <td>50</td>\n",
       "      <td>38</td>\n",
       "      <td>56</td>\n",
       "      <td>71</td>\n",
       "      <td>22.9</td>\n",
       "      <td>71</td>\n",
       "      <td>-1.0</td>\n",
       "    </tr>\n",
       "    <tr>\n",
       "      <th>3</th>\n",
       "      <td>132</td>\n",
       "      <td>330</td>\n",
       "      <td>54</td>\n",
       "      <td>38</td>\n",
       "      <td>56</td>\n",
       "      <td>22</td>\n",
       "      <td>22.1</td>\n",
       "      <td>75</td>\n",
       "      <td>-1.0</td>\n",
       "    </tr>\n",
       "    <tr>\n",
       "      <th>4</th>\n",
       "      <td>130</td>\n",
       "      <td>333</td>\n",
       "      <td>55</td>\n",
       "      <td>38</td>\n",
       "      <td>57</td>\n",
       "      <td>0</td>\n",
       "      <td>19.6</td>\n",
       "      <td>96</td>\n",
       "      <td>-1.0</td>\n",
       "    </tr>\n",
       "    <tr>\n",
       "      <th>...</th>\n",
       "      <td>...</td>\n",
       "      <td>...</td>\n",
       "      <td>...</td>\n",
       "      <td>...</td>\n",
       "      <td>...</td>\n",
       "      <td>...</td>\n",
       "      <td>...</td>\n",
       "      <td>...</td>\n",
       "      <td>...</td>\n",
       "    </tr>\n",
       "    <tr>\n",
       "      <th>714</th>\n",
       "      <td>37</td>\n",
       "      <td>41</td>\n",
       "      <td>40</td>\n",
       "      <td>36</td>\n",
       "      <td>44</td>\n",
       "      <td>0</td>\n",
       "      <td>8.6</td>\n",
       "      <td>100</td>\n",
       "      <td>-0.1</td>\n",
       "    </tr>\n",
       "    <tr>\n",
       "      <th>715</th>\n",
       "      <td>37</td>\n",
       "      <td>40</td>\n",
       "      <td>39</td>\n",
       "      <td>36</td>\n",
       "      <td>44</td>\n",
       "      <td>0</td>\n",
       "      <td>13.8</td>\n",
       "      <td>84</td>\n",
       "      <td>-0.1</td>\n",
       "    </tr>\n",
       "    <tr>\n",
       "      <th>716</th>\n",
       "      <td>37</td>\n",
       "      <td>40</td>\n",
       "      <td>39</td>\n",
       "      <td>36</td>\n",
       "      <td>44</td>\n",
       "      <td>0</td>\n",
       "      <td>11.9</td>\n",
       "      <td>96</td>\n",
       "      <td>-0.1</td>\n",
       "    </tr>\n",
       "    <tr>\n",
       "      <th>717</th>\n",
       "      <td>37</td>\n",
       "      <td>41</td>\n",
       "      <td>40</td>\n",
       "      <td>36</td>\n",
       "      <td>44</td>\n",
       "      <td>0</td>\n",
       "      <td>9.1</td>\n",
       "      <td>98</td>\n",
       "      <td>-0.1</td>\n",
       "    </tr>\n",
       "    <tr>\n",
       "      <th>718</th>\n",
       "      <td>37</td>\n",
       "      <td>41</td>\n",
       "      <td>40</td>\n",
       "      <td>36</td>\n",
       "      <td>44</td>\n",
       "      <td>0</td>\n",
       "      <td>7.2</td>\n",
       "      <td>100</td>\n",
       "      <td>-0.1</td>\n",
       "    </tr>\n",
       "  </tbody>\n",
       "</table>\n",
       "<p>719 rows × 9 columns</p>\n",
       "</div>"
      ],
      "text/plain": [
       "     WL1(mm)  WL2(mm)  WL3(mm)  WL4 (mm)  WL5 (mm)  Solar (W/m2)  \\\n",
       "0        124      324       50        38        56           678   \n",
       "1        123      322       50        38        56           550   \n",
       "2        123      322       50        38        56            71   \n",
       "3        132      330       54        38        56            22   \n",
       "4        130      333       55        38        57             0   \n",
       "..       ...      ...      ...       ...       ...           ...   \n",
       "714       37       41       40        36        44             0   \n",
       "715       37       40       39        36        44             0   \n",
       "716       37       40       39        36        44             0   \n",
       "717       37       41       40        36        44             0   \n",
       "718       37       41       40        36        44             0   \n",
       "\n",
       "     AirTemp (DegC)  RH (%)    y  \n",
       "0              25.6      64 -1.0  \n",
       "1              25.2      66 -2.0  \n",
       "2              22.9      71 -1.0  \n",
       "3              22.1      75 -1.0  \n",
       "4              19.6      96 -1.0  \n",
       "..              ...     ...  ...  \n",
       "714             8.6     100 -0.1  \n",
       "715            13.8      84 -0.1  \n",
       "716            11.9      96 -0.1  \n",
       "717             9.1      98 -0.1  \n",
       "718             7.2     100 -0.1  \n",
       "\n",
       "[719 rows x 9 columns]"
      ]
     },
     "execution_count": 93,
     "metadata": {},
     "output_type": "execute_result"
    }
   ],
   "source": [
    "data = pd.read_csv(\"dataset2_pd.csv\")\n",
    "datadata = pd.read_csv(\"dataset2_pdpd.csv\")\n",
    "\n",
    "\n",
    "data"
   ]
  },
  {
   "cell_type": "code",
   "execution_count": 94,
   "metadata": {},
   "outputs": [],
   "source": [
    "x = datadata.values.reshape(-1, 8)\n",
    "y = data.y.values.reshape(-1, 1)\n",
    "\n",
    "x_train, x_test, y_train, y_test = train_test_split(x, y, test_size = 0.25, shuffle = False)"
   ]
  },
  {
   "cell_type": "code",
   "execution_count": 95,
   "metadata": {},
   "outputs": [
    {
     "data": {
      "text/plain": [
       "array([[124. , 324. ,  50. , ..., 678. ,  25.6,  64. ],\n",
       "       [123. , 322. ,  50. , ..., 550. ,  25.2,  66. ],\n",
       "       [123. , 322. ,  50. , ...,  71. ,  22.9,  71. ],\n",
       "       ...,\n",
       "       [ 37. ,  40. ,  39. , ...,   0. ,  11.9,  96. ],\n",
       "       [ 37. ,  41. ,  40. , ...,   0. ,   9.1,  98. ],\n",
       "       [ 37. ,  41. ,  40. , ...,   0. ,   7.2, 100. ]])"
      ]
     },
     "execution_count": 95,
     "metadata": {},
     "output_type": "execute_result"
    }
   ],
   "source": [
    "x"
   ]
  },
  {
   "cell_type": "code",
   "execution_count": 102,
   "metadata": {},
   "outputs": [
    {
     "name": "stderr",
     "output_type": "stream",
     "text": [
      "c:\\users\\iars\\appdata\\local\\programs\\python\\python37\\lib\\site-packages\\sklearn\\utils\\validation.py:72: DataConversionWarning: A column-vector y was passed when a 1d array was expected. Please change the shape of y to (n_samples, ), for example using ravel().\n",
      "  return f(**kwargs)\n"
     ]
    },
    {
     "data": {
      "text/plain": [
       "SVR()"
      ]
     },
     "execution_count": 102,
     "metadata": {},
     "output_type": "execute_result"
    }
   ],
   "source": [
    "SupportVectorRegModel = SVR()\n",
    "SupportVectorRegModel.fit(x_train, y_train)"
   ]
  },
  {
   "cell_type": "code",
   "execution_count": 103,
   "metadata": {},
   "outputs": [
    {
     "data": {
      "text/plain": [
       "array([-0.19854009, -0.19846739, -0.19418102, -0.19871176, -0.19864411,\n",
       "       -0.19862572, -0.1985816 , -0.19859893, -0.19859021, -0.18694022,\n",
       "       -0.20136514, -0.20508903, -0.19467648, -0.2010104 , -0.19872031,\n",
       "       -0.19829013, -0.1981363 , -0.19924634, -0.19908521, -0.20478262,\n",
       "       -0.21302173, -0.20036721, -0.20420996, -0.19948516, -0.19839339,\n",
       "       -0.19811886, -0.19818711, -0.19932599, -0.19932603, -0.19932603,\n",
       "       -0.20241254, -0.20411259, -0.20879463, -0.19498464, -0.19926266,\n",
       "       -0.1984599 , -0.19891018, -0.1983093 , -0.19848246, -0.19838863,\n",
       "       -0.1983613 , -0.19834616, -0.19638741, -0.19020119, -0.19917982,\n",
       "       -0.20188205, -0.20380662, -0.2068616 , -0.21308314, -0.21302751,\n",
       "       -0.19669314, -0.20336325, -0.19777208, -0.19886662, -0.19884472,\n",
       "       -0.19932663, -0.20014733, -0.20090007, -0.2008383 , -0.20061919,\n",
       "       -0.20044034, -0.20043026, -0.20042028, -0.19824327, -0.20013241,\n",
       "       -0.19418715, -0.20341674, -0.20674104, -0.20680958, -0.21000446,\n",
       "       -0.20794688, -0.19474602, -0.20011467, -0.20169675, -0.2118498 ,\n",
       "       -0.20850713, -0.20374654, -0.20180739, -0.20412371, -0.20407773,\n",
       "       -0.20371151, -0.20363874, -0.20263274, -0.20153455, -0.20181651,\n",
       "       -0.20204673, -0.19914061, -0.19020656, -0.19766504, -0.19543355,\n",
       "       -0.20546405, -0.2056164 , -0.20597013, -0.20857964, -0.20365399,\n",
       "       -0.19438053, -0.20155815, -0.19805313, -0.20669281, -0.20102291,\n",
       "       -0.19875503, -0.19829925, -0.19819413, -0.19817331, -0.19955586,\n",
       "       -0.20055962, -0.20366593, -0.20688585, -0.19755952, -0.20083291,\n",
       "       -0.19372362, -0.19216822, -0.20017381, -0.19869918, -0.19836089,\n",
       "       -0.19830819, -0.19830809, -0.19836273, -0.19840507, -0.19833413,\n",
       "       -0.1982431 , -0.19828397, -0.19825989, -0.19832394, -0.18746632,\n",
       "       -0.18975676, -0.19263546, -0.19728139, -0.19890902, -0.19896461,\n",
       "       -0.19902088, -0.19914469, -0.19920253, -0.19916448, -0.19900718,\n",
       "       -0.19877408, -0.19877973, -0.19878521, -0.19875368, -0.19874971,\n",
       "       -0.19800808, -0.18576224, -0.20041952, -0.20190871, -0.20221454,\n",
       "       -0.20257403, -0.20545708, -0.19682274, -0.19854615, -0.19855637,\n",
       "       -0.19964272, -0.19226269, -0.20908231, -0.19906693, -0.20025355,\n",
       "       -0.20036018, -0.19919918, -0.19924326, -0.19844225, -0.20385878,\n",
       "       -0.19979315, -0.20032645, -0.19913101, -0.20031838, -0.20257277,\n",
       "       -0.19919778, -0.19924514, -0.19921732, -0.20011737, -0.19962851,\n",
       "       -0.19923411, -0.19927379, -0.18992396, -0.203357  , -0.19929747,\n",
       "       -0.1993416 , -0.20079748, -0.20002431, -0.199275  , -0.19932028])"
      ]
     },
     "execution_count": 103,
     "metadata": {},
     "output_type": "execute_result"
    }
   ],
   "source": [
    "y_pred = SupportVectorRegModel.predict(x_test)\n",
    "y_pred"
   ]
  },
  {
   "cell_type": "code",
   "execution_count": 104,
   "metadata": {},
   "outputs": [
    {
     "data": {
      "text/plain": [
       "0.6731845114927888"
      ]
     },
     "execution_count": 104,
     "metadata": {},
     "output_type": "execute_result"
    }
   ],
   "source": [
    "mse = mean_squared_error(y_test, y_pred)\n",
    "rmse = np.sqrt(mse)\n",
    "rmse"
   ]
  },
  {
   "cell_type": "code",
   "execution_count": null,
   "metadata": {},
   "outputs": [],
   "source": []
  }
 ],
 "metadata": {
  "kernelspec": {
   "display_name": "Python 3",
   "language": "python",
   "name": "python3"
  },
  "language_info": {
   "codemirror_mode": {
    "name": "ipython",
    "version": 3
   },
   "file_extension": ".py",
   "mimetype": "text/x-python",
   "name": "python",
   "nbconvert_exporter": "python",
   "pygments_lexer": "ipython3",
   "version": "3.7.7"
  }
 },
 "nbformat": 4,
 "nbformat_minor": 4
}
