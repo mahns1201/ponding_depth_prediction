{
 "cells": [
  {
   "cell_type": "code",
   "execution_count": 51,
   "metadata": {},
   "outputs": [],
   "source": [
    "import numpy as np\n",
    "import pandas as pd\n",
    "from sklearn.model_selection import train_test_split\n",
    "from sklearn.svm import SVR\n",
    "from sklearn.metrics import r2_score,mean_squared_error\n",
    "import seaborn as sns\n",
    "import matplotlib.pyplot as plt"
   ]
  },
  {
   "cell_type": "code",
   "execution_count": 52,
   "metadata": {},
   "outputs": [],
   "source": [
    "data = pd.read_csv(\"test.csv\")"
   ]
  },
  {
   "cell_type": "code",
   "execution_count": 53,
   "metadata": {},
   "outputs": [],
   "source": [
    "x = data.x.values.reshape(-1, 1)\n",
    "y = data.y.values.reshape(-1, 1)\n",
    "\n",
    "x_train, x_test, y_train, y_test = train_test_split(x, y, test_size = 0.25, shuffle = False)"
   ]
  },
  {
   "cell_type": "code",
   "execution_count": 57,
   "metadata": {},
   "outputs": [
    {
     "name": "stderr",
     "output_type": "stream",
     "text": [
      "c:\\users\\iars\\appdata\\local\\programs\\python\\python37\\lib\\site-packages\\sklearn\\utils\\validation.py:72: DataConversionWarning: A column-vector y was passed when a 1d array was expected. Please change the shape of y to (n_samples, ), for example using ravel().\n",
      "  return f(**kwargs)\n"
     ]
    },
    {
     "data": {
      "text/plain": [
       "SVR()"
      ]
     },
     "execution_count": 57,
     "metadata": {},
     "output_type": "execute_result"
    }
   ],
   "source": [
    "SupportVectorRegModel = SVR()\n",
    "SupportVectorRegModel.fit(x_train, y_train)"
   ]
  },
  {
   "cell_type": "code",
   "execution_count": 55,
   "metadata": {},
   "outputs": [
    {
     "data": {
      "text/plain": [
       "array([-0.19983284, -0.19983284, -0.19978851, -0.19983284, -0.19983284,\n",
       "       -0.19983284, -0.19983284, -0.19983284, -0.19983284, -0.19969037,\n",
       "       -0.20023729, -0.19990519, -0.19967873, -0.19982915, -0.19983284,\n",
       "       -0.19983284, -0.19983284, -0.19983284, -0.20041605, -0.20030574,\n",
       "       -0.20013291, -0.19967619, -0.19983284, -0.19983284, -0.19983284,\n",
       "       -0.19983284, -0.19983284, -0.19983284, -0.19983284, -0.19983284,\n",
       "       -0.20008443, -0.20021095, -0.19994027, -0.19974726, -0.19983284,\n",
       "       -0.19983284, -0.19983284, -0.19983284, -0.19983284, -0.19983284,\n",
       "       -0.19983284, -0.19983284, -0.19981432, -0.19982575, -0.20037415,\n",
       "       -0.19988043, -0.2000418 , -0.20016777, -0.19991161, -0.20013997,\n",
       "       -0.19983015, -0.20005756, -0.19966935, -0.19983284, -0.19983284,\n",
       "       -0.19983284, -0.19983284, -0.19983284, -0.19983284, -0.19983284,\n",
       "       -0.19983284, -0.19983284, -0.19983284, -0.19981432, -0.19969226,\n",
       "       -0.20003381, -0.20016821, -0.19986906, -0.20007832, -0.19987572,\n",
       "       -0.20024398, -0.19966296, -0.2000899 , -0.19969237, -0.19983284,\n",
       "       -0.19983284, -0.19983284, -0.19983284, -0.19983284, -0.19983284,\n",
       "       -0.19983284, -0.19983284, -0.19983284, -0.19983284, -0.19983284,\n",
       "       -0.19983284, -0.19981061, -0.19981645, -0.19957819, -0.20033017,\n",
       "       -0.1998666 , -0.2000418 , -0.20010272, -0.19985225, -0.20038817,\n",
       "       -0.19947327, -0.2000897 , -0.19969882, -0.19983284, -0.19983284,\n",
       "       -0.19983284, -0.19983284, -0.19983284, -0.19983284, -0.20028374,\n",
       "       -0.19993964, -0.20006611, -0.19984382, -0.20031113, -0.20006441,\n",
       "       -0.19966883, -0.19969882, -0.19983284, -0.19983284, -0.19983284,\n",
       "       -0.19983284, -0.19983284, -0.19983284, -0.19983284, -0.19983284,\n",
       "       -0.19983284, -0.19983284, -0.19983284, -0.19983284, -0.19969237,\n",
       "       -0.19972785, -0.19976704, -0.19981803, -0.19983284, -0.19983284,\n",
       "       -0.19983284, -0.19983284, -0.19983284, -0.19983284, -0.19983284,\n",
       "       -0.19983284, -0.19983284, -0.19983284, -0.19983284, -0.19983284,\n",
       "       -0.19982545, -0.19966916, -0.20015475, -0.20005636, -0.1999558 ,\n",
       "       -0.20010879, -0.19988043, -0.20026179, -0.19983284, -0.19983284,\n",
       "       -0.19983284, -0.19969446, -0.19985731, -0.19983284, -0.19983284,\n",
       "       -0.19983284, -0.19983284, -0.19983284, -0.19982545, -0.19983284,\n",
       "       -0.19983284, -0.19983284, -0.19983284, -0.19983284, -0.19975619,\n",
       "       -0.19983284, -0.19983284, -0.19983284, -0.2000842 , -0.19983284,\n",
       "       -0.19983284, -0.19983284, -0.19972785, -0.20009061, -0.19983284,\n",
       "       -0.19983284, -0.19983284, -0.19983284, -0.19983284, -0.19983284])"
      ]
     },
     "execution_count": 55,
     "metadata": {},
     "output_type": "execute_result"
    }
   ],
   "source": [
    "y_pred = SupportVectorRegModel.predict(x_test)\n",
    "y_pred"
   ]
  },
  {
   "cell_type": "code",
   "execution_count": 56,
   "metadata": {},
   "outputs": [
    {
     "data": {
      "text/plain": [
       "0.6733781064549963"
      ]
     },
     "execution_count": 56,
     "metadata": {},
     "output_type": "execute_result"
    }
   ],
   "source": [
    "mse = mean_squared_error(y_test, y_pred)\n",
    "rmse = np.sqrt(mse)\n",
    "rmse"
   ]
  },
  {
   "cell_type": "code",
   "execution_count": null,
   "metadata": {},
   "outputs": [],
   "source": []
  }
 ],
 "metadata": {
  "kernelspec": {
   "display_name": "Python 3",
   "language": "python",
   "name": "python3"
  },
  "language_info": {
   "codemirror_mode": {
    "name": "ipython",
    "version": 3
   },
   "file_extension": ".py",
   "mimetype": "text/x-python",
   "name": "python",
   "nbconvert_exporter": "python",
   "pygments_lexer": "ipython3",
   "version": "3.7.7"
  }
 },
 "nbformat": 4,
 "nbformat_minor": 4
}
