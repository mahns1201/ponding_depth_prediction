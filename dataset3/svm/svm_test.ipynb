{
 "cells": [
  {
   "cell_type": "code",
   "execution_count": 1,
   "metadata": {},
   "outputs": [],
   "source": [
    "import numpy as np\n",
    "import pandas as pd\n",
    "from sklearn.model_selection import train_test_split\n",
    "from sklearn.svm import SVR\n",
    "from sklearn.metrics import r2_score,mean_squared_error\n",
    "import seaborn as sns\n",
    "import matplotlib.pyplot as plt"
   ]
  },
  {
   "cell_type": "code",
   "execution_count": 5,
   "metadata": {},
   "outputs": [],
   "source": [
    "data = pd.read_csv(\"test.csv\")"
   ]
  },
  {
   "cell_type": "code",
   "execution_count": 9,
   "metadata": {},
   "outputs": [],
   "source": [
    "x = data.x.values.reshape(-1, 1)\n",
    "y = data.y.values.reshape(-1, 1).ravel()\n",
    "\n",
    "x_train, x_test, y_train, y_test = train_test_split(x, y, test_size = 0.25, shuffle = False)"
   ]
  },
  {
   "cell_type": "code",
   "execution_count": 13,
   "metadata": {},
   "outputs": [
    {
     "data": {
      "text/plain": [
       "SVR()"
      ]
     },
     "execution_count": 13,
     "metadata": {},
     "output_type": "execute_result"
    }
   ],
   "source": [
    "SupportVectorRegModel = SVR()\n",
    "SupportVectorRegModel.fit(x_train, y_train)"
   ]
  },
  {
   "cell_type": "code",
   "execution_count": 14,
   "metadata": {},
   "outputs": [
    {
     "data": {
      "text/plain": [
       "array([-0.19984184, -0.19984184, -0.19984184, -0.19984184, -0.19984184,\n",
       "       -0.19984184, -0.19984184, -0.19984184, -0.19984184, -0.19984184,\n",
       "       -0.19984184, -0.19984184, -0.19984184, -0.19984184, -0.19984184,\n",
       "       -0.19984184, -0.19984184, -0.19984184, -0.19984184, -0.19984184,\n",
       "       -0.19984184, -0.19984184, -0.19984184, -0.19984184, -0.19984184,\n",
       "       -0.19984184, -0.19984184, -0.19984184, -0.19984184, -0.19984184,\n",
       "       -0.19984184, -0.19984184, -0.19984184, -0.19984184, -0.19984184,\n",
       "       -0.19984184, -0.19984184, -0.19984184, -0.19984184, -0.19984184,\n",
       "       -0.19984184, -0.19984184, -0.19984184, -0.20019534, -0.19102483,\n",
       "       -0.17248581, -0.19981541, -0.19984184, -0.19984184, -0.19984184,\n",
       "       -0.19984184, -0.19984184, -0.19984184, -0.19984184, -0.19984184,\n",
       "       -0.19984184, -0.19997318, -0.19997318, -0.19997318, -0.19997318,\n",
       "       -0.19997318, -0.19997318, -0.19997318, -0.19997318, -0.19997318,\n",
       "       -0.19997318, -0.19997318, -0.19997318, -0.19984184, -0.19984184,\n",
       "       -0.19997318, -0.19997318, -0.19997318, -0.19997318, -0.19997318,\n",
       "       -0.19997318, -0.19997318, -0.19997318, -0.19997318, -0.19997318,\n",
       "       -0.19997318, -0.19997318, -0.19997318, -0.19997318, -0.19997318,\n",
       "       -0.19997318, -0.19997318, -0.19997318, -0.19997318, -0.19997318,\n",
       "       -0.19997318, -0.19997318, -0.19997318, -0.19997318, -0.19997318,\n",
       "       -0.19997318, -0.19997318, -0.19997318, -0.19997318, -0.19997318,\n",
       "       -0.19997318, -0.19997318, -0.19997318])"
      ]
     },
     "execution_count": 14,
     "metadata": {},
     "output_type": "execute_result"
    }
   ],
   "source": [
    "y_pred = SupportVectorRegModel.predict(x_test)\n",
    "y_pred"
   ]
  },
  {
   "cell_type": "code",
   "execution_count": 15,
   "metadata": {},
   "outputs": [
    {
     "data": {
      "text/plain": [
       "0.10348362987325019"
      ]
     },
     "execution_count": 15,
     "metadata": {},
     "output_type": "execute_result"
    }
   ],
   "source": [
    "mse = mean_squared_error(y_test, y_pred)\n",
    "rmse = np.sqrt(mse)\n",
    "rmse"
   ]
  },
  {
   "cell_type": "code",
   "execution_count": null,
   "metadata": {},
   "outputs": [],
   "source": []
  }
 ],
 "metadata": {
  "kernelspec": {
   "display_name": "Python 3",
   "language": "python",
   "name": "python3"
  },
  "language_info": {
   "codemirror_mode": {
    "name": "ipython",
    "version": 3
   },
   "file_extension": ".py",
   "mimetype": "text/x-python",
   "name": "python",
   "nbconvert_exporter": "python",
   "pygments_lexer": "ipython3",
   "version": "3.7.7"
  }
 },
 "nbformat": 4,
 "nbformat_minor": 4
}
