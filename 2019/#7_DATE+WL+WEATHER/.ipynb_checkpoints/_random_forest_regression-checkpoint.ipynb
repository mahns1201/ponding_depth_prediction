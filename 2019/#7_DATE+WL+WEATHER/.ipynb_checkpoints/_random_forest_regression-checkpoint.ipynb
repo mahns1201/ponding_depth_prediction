{
 "cells": [
  {
   "cell_type": "code",
   "execution_count": 1,
   "metadata": {},
   "outputs": [],
   "source": [
    "import numpy as np\n",
    "import pandas as pd\n",
    "import seaborn as sns\n",
    "import matplotlib.pyplot as plt\n",
    "from sklearn.model_selection import train_test_split\n",
    "from sklearn.ensemble import RandomForestRegressor\n",
    "from sklearn.metrics import r2_score,mean_squared_error\n",
    "from sklearn.metrics import mean_absolute_error"
   ]
  },
  {
   "cell_type": "code",
   "execution_count": 2,
   "metadata": {},
   "outputs": [
    {
     "data": {
      "text/html": [
       "<div>\n",
       "<style scoped>\n",
       "    .dataframe tbody tr th:only-of-type {\n",
       "        vertical-align: middle;\n",
       "    }\n",
       "\n",
       "    .dataframe tbody tr th {\n",
       "        vertical-align: top;\n",
       "    }\n",
       "\n",
       "    .dataframe thead th {\n",
       "        text-align: right;\n",
       "    }\n",
       "</style>\n",
       "<table border=\"1\" class=\"dataframe\">\n",
       "  <thead>\n",
       "    <tr style=\"text-align: right;\">\n",
       "      <th></th>\n",
       "      <th>plant_date</th>\n",
       "      <th>DoY</th>\n",
       "      <th>WL1(mm)</th>\n",
       "      <th>WL2(mm)</th>\n",
       "      <th>WL3(mm)</th>\n",
       "      <th>WL4 (mm)</th>\n",
       "      <th>WL5 (mm)</th>\n",
       "      <th>Solar (W/m2)</th>\n",
       "      <th>AirTemp (DegC)</th>\n",
       "      <th>RH (%)</th>\n",
       "      <th>(delta)PD</th>\n",
       "    </tr>\n",
       "  </thead>\n",
       "  <tbody>\n",
       "    <tr>\n",
       "      <th>0</th>\n",
       "      <td>0.2083</td>\n",
       "      <td>237.2083</td>\n",
       "      <td>53</td>\n",
       "      <td>208</td>\n",
       "      <td>87</td>\n",
       "      <td>36</td>\n",
       "      <td>44</td>\n",
       "      <td>0</td>\n",
       "      <td>21.9</td>\n",
       "      <td>97</td>\n",
       "      <td>-0.1</td>\n",
       "    </tr>\n",
       "    <tr>\n",
       "      <th>1</th>\n",
       "      <td>0.4583</td>\n",
       "      <td>237.4583</td>\n",
       "      <td>59</td>\n",
       "      <td>62</td>\n",
       "      <td>93</td>\n",
       "      <td>36</td>\n",
       "      <td>50</td>\n",
       "      <td>113</td>\n",
       "      <td>22.3</td>\n",
       "      <td>100</td>\n",
       "      <td>-0.1</td>\n",
       "    </tr>\n",
       "    <tr>\n",
       "      <th>2</th>\n",
       "      <td>0.6250</td>\n",
       "      <td>237.6250</td>\n",
       "      <td>60</td>\n",
       "      <td>61</td>\n",
       "      <td>93</td>\n",
       "      <td>36</td>\n",
       "      <td>56</td>\n",
       "      <td>152</td>\n",
       "      <td>22.8</td>\n",
       "      <td>100</td>\n",
       "      <td>-0.1</td>\n",
       "    </tr>\n",
       "    <tr>\n",
       "      <th>3</th>\n",
       "      <td>0.6667</td>\n",
       "      <td>237.6667</td>\n",
       "      <td>58</td>\n",
       "      <td>60</td>\n",
       "      <td>91</td>\n",
       "      <td>36</td>\n",
       "      <td>51</td>\n",
       "      <td>141</td>\n",
       "      <td>23.3</td>\n",
       "      <td>100</td>\n",
       "      <td>-0.1</td>\n",
       "    </tr>\n",
       "    <tr>\n",
       "      <th>4</th>\n",
       "      <td>0.7083</td>\n",
       "      <td>237.7083</td>\n",
       "      <td>57</td>\n",
       "      <td>61</td>\n",
       "      <td>91</td>\n",
       "      <td>36</td>\n",
       "      <td>48</td>\n",
       "      <td>123</td>\n",
       "      <td>23.6</td>\n",
       "      <td>99</td>\n",
       "      <td>-0.1</td>\n",
       "    </tr>\n",
       "    <tr>\n",
       "      <th>...</th>\n",
       "      <td>...</td>\n",
       "      <td>...</td>\n",
       "      <td>...</td>\n",
       "      <td>...</td>\n",
       "      <td>...</td>\n",
       "      <td>...</td>\n",
       "      <td>...</td>\n",
       "      <td>...</td>\n",
       "      <td>...</td>\n",
       "      <td>...</td>\n",
       "      <td>...</td>\n",
       "    </tr>\n",
       "    <tr>\n",
       "      <th>407</th>\n",
       "      <td>40.8750</td>\n",
       "      <td>277.8750</td>\n",
       "      <td>39</td>\n",
       "      <td>42</td>\n",
       "      <td>42</td>\n",
       "      <td>36</td>\n",
       "      <td>44</td>\n",
       "      <td>0</td>\n",
       "      <td>14.5</td>\n",
       "      <td>93</td>\n",
       "      <td>-0.1</td>\n",
       "    </tr>\n",
       "    <tr>\n",
       "      <th>408</th>\n",
       "      <td>41.0000</td>\n",
       "      <td>278.0000</td>\n",
       "      <td>39</td>\n",
       "      <td>42</td>\n",
       "      <td>42</td>\n",
       "      <td>36</td>\n",
       "      <td>44</td>\n",
       "      <td>0</td>\n",
       "      <td>13.9</td>\n",
       "      <td>99</td>\n",
       "      <td>-0.1</td>\n",
       "    </tr>\n",
       "    <tr>\n",
       "      <th>409</th>\n",
       "      <td>41.0833</td>\n",
       "      <td>278.0833</td>\n",
       "      <td>39</td>\n",
       "      <td>42</td>\n",
       "      <td>42</td>\n",
       "      <td>36</td>\n",
       "      <td>44</td>\n",
       "      <td>0</td>\n",
       "      <td>14.4</td>\n",
       "      <td>100</td>\n",
       "      <td>-0.1</td>\n",
       "    </tr>\n",
       "    <tr>\n",
       "      <th>410</th>\n",
       "      <td>41.2083</td>\n",
       "      <td>278.2083</td>\n",
       "      <td>39</td>\n",
       "      <td>42</td>\n",
       "      <td>42</td>\n",
       "      <td>36</td>\n",
       "      <td>44</td>\n",
       "      <td>0</td>\n",
       "      <td>14.6</td>\n",
       "      <td>98</td>\n",
       "      <td>-0.1</td>\n",
       "    </tr>\n",
       "    <tr>\n",
       "      <th>411</th>\n",
       "      <td>41.3333</td>\n",
       "      <td>278.3333</td>\n",
       "      <td>39</td>\n",
       "      <td>42</td>\n",
       "      <td>42</td>\n",
       "      <td>36</td>\n",
       "      <td>44</td>\n",
       "      <td>12</td>\n",
       "      <td>14.6</td>\n",
       "      <td>100</td>\n",
       "      <td>-0.1</td>\n",
       "    </tr>\n",
       "  </tbody>\n",
       "</table>\n",
       "<p>412 rows × 11 columns</p>\n",
       "</div>"
      ],
      "text/plain": [
       "     plant_date       DoY  WL1(mm)  WL2(mm)  WL3(mm)  WL4 (mm)  WL5 (mm)  \\\n",
       "0        0.2083  237.2083       53      208       87        36        44   \n",
       "1        0.4583  237.4583       59       62       93        36        50   \n",
       "2        0.6250  237.6250       60       61       93        36        56   \n",
       "3        0.6667  237.6667       58       60       91        36        51   \n",
       "4        0.7083  237.7083       57       61       91        36        48   \n",
       "..          ...       ...      ...      ...      ...       ...       ...   \n",
       "407     40.8750  277.8750       39       42       42        36        44   \n",
       "408     41.0000  278.0000       39       42       42        36        44   \n",
       "409     41.0833  278.0833       39       42       42        36        44   \n",
       "410     41.2083  278.2083       39       42       42        36        44   \n",
       "411     41.3333  278.3333       39       42       42        36        44   \n",
       "\n",
       "     Solar (W/m2)  AirTemp (DegC)  RH (%)  (delta)PD  \n",
       "0               0            21.9      97       -0.1  \n",
       "1             113            22.3     100       -0.1  \n",
       "2             152            22.8     100       -0.1  \n",
       "3             141            23.3     100       -0.1  \n",
       "4             123            23.6      99       -0.1  \n",
       "..            ...             ...     ...        ...  \n",
       "407             0            14.5      93       -0.1  \n",
       "408             0            13.9      99       -0.1  \n",
       "409             0            14.4     100       -0.1  \n",
       "410             0            14.6      98       -0.1  \n",
       "411            12            14.6     100       -0.1  \n",
       "\n",
       "[412 rows x 11 columns]"
      ]
     },
     "execution_count": 2,
     "metadata": {},
     "output_type": "execute_result"
    }
   ],
   "source": [
    "data_visualize = pd.read_csv(\"DATE+WL+WEATHER.csv\")\n",
    "\n",
    "data_visualize"
   ]
  },
  {
   "cell_type": "code",
   "execution_count": 3,
   "metadata": {},
   "outputs": [],
   "source": [
    "data = np.loadtxt(\"DATE+WL+WEATHER_np.csv\", delimiter = ',', dtype = np.float32)\n",
    "\n",
    "X_COL = len(data_visualize.columns) - 1\n",
    "\n",
    "x = data[:, :X_COL]\n",
    "y = data[:, [-1]].ravel()\n",
    "\n",
    "x_train, x_test, y_train, y_test = train_test_split(x, y, test_size = 0.25, random_state = 42)"
   ]
  },
  {
   "cell_type": "code",
   "execution_count": 4,
   "metadata": {},
   "outputs": [
    {
     "data": {
      "text/plain": [
       "RandomForestRegressor(n_estimators=1000)"
      ]
     },
     "execution_count": 4,
     "metadata": {},
     "output_type": "execute_result"
    }
   ],
   "source": [
    "RandomForestRegModel = RandomForestRegressor(n_estimators = 1000, criterion = 'mse')\n",
    "RandomForestRegModel.fit(x_train, y_train)"
   ]
  },
  {
   "cell_type": "code",
   "execution_count": 5,
   "metadata": {},
   "outputs": [],
   "source": [
    "y_hat = RandomForestRegModel.predict(x_test)"
   ]
  },
  {
   "cell_type": "code",
   "execution_count": 6,
   "metadata": {},
   "outputs": [
    {
     "data": {
      "image/png": "[encoded data removed]",
      "text/plain": [
       "<Figure size 432x288 with 1 Axes>"
      ]
     },
     "metadata": {
      "needs_background": "light"
     },
     "output_type": "display_data"
    }
   ],
   "source": [
    "plt.scatter(y_test, y_hat, alpha = 0.4)\n",
    "plt.xlabel('Actual PD')\n",
    "plt.ylabel('Predicted PD')\n",
    "plt.title('Actual - Predicted (RBF)')\n",
    "plt.show()"
   ]
  },
  {
   "cell_type": "code",
   "execution_count": 7,
   "metadata": {},
   "outputs": [
    {
     "name": "stdout",
     "output_type": "stream",
     "text": [
      "RMSE: 0.060570688530528584\n",
      "MAE: 0.036453399082338356\n"
     ]
    }
   ],
   "source": [
    "mse = mean_squared_error(y_test, y_hat)\n",
    "rmse = np.sqrt(mse)\n",
    "\n",
    "print(\"RMSE:\", rmse)\n",
    "print(\"MAE:\", mean_absolute_error(y_test, y_hat))"
   ]
  },
  {
   "cell_type": "code",
   "execution_count": null,
   "metadata": {},
   "outputs": [],
   "source": []
  }
 ],
 "metadata": {
  "kernelspec": {
   "display_name": "Python 3",
   "language": "python",
   "name": "python3"
  },
  "language_info": {
   "codemirror_mode": {
    "name": "ipython",
    "version": 3
   },
   "file_extension": ".py",
   "mimetype": "text/x-python",
   "name": "python",
   "nbconvert_exporter": "python",
   "pygments_lexer": "ipython3",
   "version": "3.7.7"
  }
 },
 "nbformat": 4,
 "nbformat_minor": 4
}
