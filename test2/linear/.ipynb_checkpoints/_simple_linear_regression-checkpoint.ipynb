{
 "cells": [
  {
   "cell_type": "code",
   "execution_count": 6,
   "metadata": {},
   "outputs": [],
   "source": [
    "import tensorflow as tf\n",
    "import numpy as np\n",
    "import pandas as pd\n",
    "import matplotlib.pyplot as plt\n",
    "import random"
   ]
  },
  {
   "cell_type": "code",
   "execution_count": 14,
   "metadata": {},
   "outputs": [
    {
     "name": "stdout",
     "output_type": "stream",
     "text": [
      "     WL1(mm)  WL2(mm)  WL3(mm)  WL4 (mm)  WL5 (mm)  Solar (W/m2)  \\\n",
      "0        124      324       50        38        56           678   \n",
      "1        123      322       50        38        56           550   \n",
      "2        123      322       50        38        56            71   \n",
      "3        132      330       54        38        56            22   \n",
      "4        130      333       55        38        57             0   \n",
      "..       ...      ...      ...       ...       ...           ...   \n",
      "714       37       41       40        36        44             0   \n",
      "715       37       40       39        36        44             0   \n",
      "716       37       40       39        36        44             0   \n",
      "717       37       41       40        36        44             0   \n",
      "718       37       41       40        36        44             0   \n",
      "\n",
      "     WindSpeed (m/s)  AirTemp (DegC)  RH (%)  (delta)PD (mm)  \n",
      "0               1.48            25.6      64            -1.0  \n",
      "1               1.40            25.2      66            -2.0  \n",
      "2               1.38            22.9      71            -1.0  \n",
      "3               0.91            22.1      75            -1.0  \n",
      "4               0.76            19.6      96            -1.0  \n",
      "..               ...             ...     ...             ...  \n",
      "714            19.00             8.6     100            -0.1  \n",
      "715            23.00            13.8      84            -0.1  \n",
      "716            35.00            11.9      96            -0.1  \n",
      "717            12.00             9.1      98            -0.1  \n",
      "718            15.00             7.2     100            -0.1  \n",
      "\n",
      "[719 rows x 10 columns]\n"
     ]
    }
   ],
   "source": [
    "data_display = pd.read_csv(\"dataset2.csv\")\n",
    "\n",
    "print(data_display)"
   ]
  },
  {
   "cell_type": "code",
   "execution_count": 63,
   "metadata": {},
   "outputs": [],
   "source": [
    "learning_rate = 0.001\n",
    "trainning_steps = 15000\n",
    "display_step = 1000\n",
    "\n",
    "w_pred = 0"
   ]
  },
  {
   "cell_type": "code",
   "execution_count": 64,
   "metadata": {},
   "outputs": [],
   "source": [
    "data = np.loadtxt(\"dataset2_np.csv\", delimiter = ',', dtype = np.float32)\n",
    "\n",
    "x_train = data[:500, [0]]\n",
    "x_test = data[500:, [0]]\n",
    "\n",
    "y_train = data[:500, [-1]]\n",
    "y_test = data[500:, [-1]]\n",
    "\n",
    "w = tf.Variable(random.random())\n",
    "bias = tf.Variable(random.random())"
   ]
  },
  {
   "cell_type": "code",
   "execution_count": 65,
   "metadata": {},
   "outputs": [
    {
     "name": "stdout",
     "output_type": "stream",
     "text": [
      "step: 1000 \n",
      " w: -0.010079292 \n",
      " bias: 0.34378996 \n",
      " loss: 0.08174147 \n",
      "\n",
      "step: 2000 \n",
      " w: -0.011406839 \n",
      " bias: 0.34232712 \n",
      " loss: 0.076340586 \n",
      "\n",
      "step: 3000 \n",
      " w: -0.011402974 \n",
      " bias: 0.34209967 \n",
      " loss: 0.07634032 \n",
      "\n",
      "step: 4000 \n",
      " w: -0.011397017 \n",
      " bias: 0.34174645 \n",
      " loss: 0.07634 \n",
      "\n",
      "step: 5000 \n",
      " w: -0.0113885095 \n",
      " bias: 0.34124264 \n",
      " loss: 0.07633954 \n",
      "\n",
      "step: 6000 \n",
      " w: -0.011377566 \n",
      " bias: 0.34059495 \n",
      " loss: 0.07633913 \n",
      "\n",
      "step: 7000 \n",
      " w: -0.0113655925 \n",
      " bias: 0.33988604 \n",
      " loss: 0.07633881 \n",
      "\n",
      "step: 8000 \n",
      " w: -0.0113556245 \n",
      " bias: 0.3392961 \n",
      " loss: 0.07633868 \n",
      "\n",
      "step: 9000 \n",
      " w: -0.011350175 \n",
      " bias: 0.33897352 \n",
      " loss: 0.076338634 \n",
      "\n",
      "step: 10000 \n",
      " w: -0.0113486685 \n",
      " bias: 0.33888432 \n",
      " loss: 0.07633867 \n",
      "\n",
      "step: 11000 \n",
      " w: -0.011348555 \n",
      " bias: 0.33887762 \n",
      " loss: 0.076338656 \n",
      "\n",
      "step: 12000 \n",
      " w: -0.01134853 \n",
      " bias: 0.33887616 \n",
      " loss: 0.07633867 \n",
      "\n",
      "step: 13000 \n",
      " w: -0.0113485195 \n",
      " bias: 0.3388756 \n",
      " loss: 0.07633867 \n",
      "\n",
      "step: 14000 \n",
      " w: -0.011348513 \n",
      " bias: 0.33887506 \n",
      " loss: 0.07633864 \n",
      "\n",
      "step: 15000 \n",
      " w: -0.011348509 \n",
      " bias: 0.3388749 \n",
      " loss: 0.07633864 \n",
      "\n"
     ]
    }
   ],
   "source": [
    "def compute_loss():\n",
    "    hypothesis = w * x_train + bias\n",
    "    loss = tf.reduce_mean((y_train - hypothesis) ** 2)\n",
    "    return loss\n",
    "\n",
    "optimizer = tf.optimizers.Adam(lr = learning_rate)\n",
    "\n",
    "for step in range(1, trainning_steps + 1):\n",
    "    optimizer.minimize(compute_loss, var_list = [w, bias])\n",
    "    \n",
    "    if step % display_step == 0:\n",
    "        print('step:', step, '\\n', 'w:', w.numpy(), '\\n', 'bias:', bias.numpy(), \n",
    "              '\\n', 'loss:', compute_loss().numpy(), '\\n')\n",
    "        \n",
    "        w_pred = w.numpy()"
   ]
  },
  {
   "cell_type": "code",
   "execution_count": 66,
   "metadata": {},
   "outputs": [],
   "source": [
    "line_x = np.arange(min(x_test), max(x_test), 0.01)\n",
    "line_y = w * line_x + bias"
   ]
  },
  {
   "cell_type": "code",
   "execution_count": 67,
   "metadata": {
    "scrolled": true
   },
   "outputs": [
    {
     "data": {
      "image/png": "[encoded data removed]",
      "text/plain": [
       "<Figure size 432x288 with 1 Axes>"
      ]
     },
     "metadata": {
      "needs_background": "light"
     },
     "output_type": "display_data"
    }
   ],
   "source": [
    "#plt.figure(figsize = (15, 5))\n",
    "\n",
    "plt.plot(line_x, line_y, 'r-', label = 'Predicted Line')\n",
    "plt.plot(x_test, y_test, 'bo', label = 'Actual Value')\n",
    "plt.title('wl1-pd relation')\n",
    "plt.xlabel('Acutial PD')\n",
    "plt.ylabel('Predicted PD')\n",
    "plt.legend(loc = 'lower right')\n",
    "plt.show()"
   ]
  },
  {
   "cell_type": "code",
   "execution_count": 68,
   "metadata": {},
   "outputs": [
    {
     "data": {
      "image/png": "[encoded data removed]",
      "text/plain": [
       "<Figure size 432x288 with 1 Axes>"
      ]
     },
     "metadata": {
      "needs_background": "light"
     },
     "output_type": "display_data"
    }
   ],
   "source": [
    "# 실제 담수심과 예상 담수심 간 관계.\n",
    "\n",
    "y_hat = w_pred * x_test + bias\n",
    "\n",
    "plt.scatter(y_test, y_hat, alpha = 0.4)\n",
    "plt.xlabel('Actual PD')\n",
    "plt.ylabel('Predicted PD')\n",
    "plt.title('Relation of Actual PD - Predicted PD')\n",
    "plt.show()"
   ]
  },
  {
   "cell_type": "code",
   "execution_count": 69,
   "metadata": {},
   "outputs": [
    {
     "name": "stdout",
     "output_type": "stream",
     "text": [
      "0.65377223\n"
     ]
    }
   ],
   "source": [
    "def rmse(x_test, y_test):\n",
    "    y_hat = w_pred * x_test + bias\n",
    "    error = y_hat - y_test\n",
    "    mse = np.mean(error * error)\n",
    "    rmse = np.sqrt(mse)\n",
    "    \n",
    "    return rmse\n",
    "\n",
    "print(rmse(x_test, y_test))"
   ]
  },
  {
   "cell_type": "code",
   "execution_count": null,
   "metadata": {},
   "outputs": [],
   "source": []
  }
 ],
 "metadata": {
  "kernelspec": {
   "display_name": "Python 3",
   "language": "python",
   "name": "python3"
  },
  "language_info": {
   "codemirror_mode": {
    "name": "ipython",
    "version": 3
   },
   "file_extension": ".py",
   "mimetype": "text/x-python",
   "name": "python",
   "nbconvert_exporter": "python",
   "pygments_lexer": "ipython3",
   "version": "3.7.7"
  }
 },
 "nbformat": 4,
 "nbformat_minor": 4
}
