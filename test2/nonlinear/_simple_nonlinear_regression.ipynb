{
 "cells": [
  {
   "cell_type": "code",
   "execution_count": 3,
   "metadata": {},
   "outputs": [],
   "source": [
    "import tensorflow as tf\n",
    "import numpy as np\n",
    "import pandas as pd\n",
    "import matplotlib.pyplot as plt\n",
    "import random"
   ]
  },
  {
   "cell_type": "code",
   "execution_count": 4,
   "metadata": {},
   "outputs": [
    {
     "name": "stdout",
     "output_type": "stream",
     "text": [
      "     WL1(mm)  WL2(mm)  WL3(mm)  WL4 (mm)  WL5 (mm)  Solar (W/m2)  \\\n",
      "0        124      324       50        38        56           678   \n",
      "1        123      322       50        38        56           550   \n",
      "2        123      322       50        38        56            71   \n",
      "3        132      330       54        38        56            22   \n",
      "4        130      333       55        38        57             0   \n",
      "..       ...      ...      ...       ...       ...           ...   \n",
      "714       37       41       40        36        44             0   \n",
      "715       37       40       39        36        44             0   \n",
      "716       37       40       39        36        44             0   \n",
      "717       37       41       40        36        44             0   \n",
      "718       37       41       40        36        44             0   \n",
      "\n",
      "     WindSpeed (m/s)  AirTemp (DegC)  RH (%)  (delta)PD (mm)  \n",
      "0               1.48            25.6      64            -1.0  \n",
      "1               1.40            25.2      66            -2.0  \n",
      "2               1.38            22.9      71            -1.0  \n",
      "3               0.91            22.1      75            -1.0  \n",
      "4               0.76            19.6      96            -1.0  \n",
      "..               ...             ...     ...             ...  \n",
      "714            19.00             8.6     100            -0.1  \n",
      "715            23.00            13.8      84            -0.1  \n",
      "716            35.00            11.9      96            -0.1  \n",
      "717            12.00             9.1      98            -0.1  \n",
      "718            15.00             7.2     100            -0.1  \n",
      "\n",
      "[719 rows x 10 columns]\n"
     ]
    }
   ],
   "source": [
    "data_display = pd.read_csv(\"dataset2.csv\")\n",
    "\n",
    "print(data_display)"
   ]
  },
  {
   "cell_type": "code",
   "execution_count": 5,
   "metadata": {},
   "outputs": [],
   "source": [
    "learning_rate = 0.001\n",
    "trainning_steps = 15000\n",
    "display_step = 1000\n",
    "\n",
    "w_pred = 0"
   ]
  },
  {
   "cell_type": "code",
   "execution_count": 14,
   "metadata": {},
   "outputs": [],
   "source": [
    "data = np.loadtxt(\"dataset2_np.csv\", delimiter = ',', dtype = np.float32)\n",
    "\n",
    "x_train = data[:500, [0]]\n",
    "x_test = data[500:, [0]]\n",
    "\n",
    "y_train = data[:500, [-1]]\n",
    "y_test = data[500:, [-1]]\n",
    "\n",
    "w1 = tf.Variable(random.random())\n",
    "w2 = tf.Variable(random.random())\n",
    "bias = tf.Variable(random.random())"
   ]
  },
  {
   "cell_type": "code",
   "execution_count": 15,
   "metadata": {},
   "outputs": [
    {
     "name": "stdout",
     "output_type": "stream",
     "text": [
      "step: 1000 \n",
      " w1: -0.0073199845 \n",
      " w2: 0.6493127 \n",
      " bias: -0.015358127 \n",
      " loss: 218.34761 \n",
      "\n",
      "step: 2000 \n",
      " w1: -0.0070319166 \n",
      " w2: 0.6215565 \n",
      " bias: -0.08039637 \n",
      " loss: 198.71515 \n",
      "\n",
      "step: 3000 \n",
      " w1: -0.006493475 \n",
      " w2: 0.5750002 \n",
      " bias: -0.18914683 \n",
      " loss: 167.86668 \n",
      "\n",
      "step: 4000 \n",
      " w1: -0.0056795357 \n",
      " w2: 0.50460535 \n",
      " bias: -0.35220975 \n",
      " loss: 126.18659 \n",
      "\n",
      "step: 5000 \n",
      " w1: -0.0045604208 \n",
      " w2: 0.4077696 \n",
      " bias: -0.57297593 \n",
      " loss: 78.60547 \n",
      "\n",
      "step: 6000 \n",
      " w1: -0.00320802 \n",
      " w2: 0.29065982 \n",
      " bias: -0.83348906 \n",
      " loss: 36.106888 \n",
      "\n",
      "step: 7000 \n",
      " w1: -0.0018658806 \n",
      " w2: 0.17433849 \n",
      " bias: -1.085019 \n",
      " loss: 10.116409 \n",
      "\n",
      "step: 8000 \n",
      " w1: -0.0008892052 \n",
      " w2: 0.089629166 \n",
      " bias: -1.2636887 \n",
      " loss: 1.3112037 \n",
      "\n",
      "step: 9000 \n",
      " w1: -0.00045646066 \n",
      " w2: 0.05205733 \n",
      " bias: -1.3400356 \n",
      " loss: 0.1266378 \n",
      "\n",
      "step: 10000 \n",
      " w1: -0.00036885394 \n",
      " w2: 0.044389892 \n",
      " bias: -1.3509938 \n",
      " loss: 0.08923661 \n",
      "\n",
      "step: 11000 \n",
      " w1: -0.0003622071 \n",
      " w2: 0.04369936 \n",
      " bias: -1.3438315 \n",
      " loss: 0.088874124 \n",
      "\n",
      "step: 12000 \n",
      " w1: -0.0003594157 \n",
      " w2: 0.04327095 \n",
      " bias: -1.3306524 \n",
      " loss: 0.0884676 \n",
      "\n",
      "step: 13000 \n",
      " w1: -0.00035494377 \n",
      " w2: 0.042580646 \n",
      " bias: -1.3092475 \n",
      " loss: 0.08781795 \n",
      "\n",
      "step: 14000 \n",
      " w1: -0.0003477589 \n",
      " w2: 0.041471593 \n",
      " bias: -1.2748591 \n",
      " loss: 0.08680091 \n",
      "\n",
      "step: 15000 \n",
      " w1: -0.00033641304 \n",
      " w2: 0.03972021 \n",
      " bias: -1.2205538 \n",
      " loss: 0.08526152 \n",
      "\n"
     ]
    }
   ],
   "source": [
    "def compute_loss():\n",
    "    hypothesis = w1 * x_train * x_train + w2 * x_train + bias\n",
    "    loss = tf.reduce_mean((y_train - hypothesis) ** 2)\n",
    "    \n",
    "    return loss\n",
    "\n",
    "optimizer = tf.optimizers.Adam(lr = learning_rate)\n",
    "\n",
    "for step in range(1, trainning_steps + 1):\n",
    "    optimizer.minimize(compute_loss, var_list = [w1, w2, bias])\n",
    "    \n",
    "    if step % display_step == 0:\n",
    "        print('step:', step, '\\n', 'w1:', w1.numpy(), '\\n', 'w2:', w2.numpy(), '\\n', \n",
    "              'bias:', bias.numpy(), '\\n', 'loss:', compute_loss().numpy(), '\\n')\n",
    "        \n",
    "        w1_pred = w1.numpy()\n",
    "        w2_pred = w2.numpy()"
   ]
  },
  {
   "cell_type": "code",
   "execution_count": 16,
   "metadata": {},
   "outputs": [],
   "source": [
    "line_x = np.arange(min(x_test), max(x_test), 0.01)\n",
    "line_y = w1_pred * line_x * line_x + w2_pred * line_x + bias"
   ]
  },
  {
   "cell_type": "code",
   "execution_count": 17,
   "metadata": {},
   "outputs": [
    {
     "data": {
      "image/png": "[encoded data removed]",
      "text/plain": [
       "<Figure size 432x288 with 1 Axes>"
      ]
     },
     "metadata": {
      "needs_background": "light"
     },
     "output_type": "display_data"
    }
   ],
   "source": [
    "#plt.figure(figsize = (15, 5))\n",
    "\n",
    "plt.plot(line_x, line_y, 'r-', label = 'Predicted Line')\n",
    "plt.plot(x_test, y_test, 'bo', label = 'WL1')\n",
    "plt.title('wl1-pd relation')\n",
    "plt.xlabel('WL1')\n",
    "plt.ylabel('PD')\n",
    "plt.legend(loc = 'lower right')\n",
    "plt.show()"
   ]
  },
  {
   "cell_type": "code",
   "execution_count": 18,
   "metadata": {},
   "outputs": [
    {
     "data": {
      "image/png": "[encoded data removed]",
      "text/plain": [
       "<Figure size 432x288 with 1 Axes>"
      ]
     },
     "metadata": {
      "needs_background": "light"
     },
     "output_type": "display_data"
    }
   ],
   "source": [
    "# 실제 담수심과 예상 담수심 간 관계.\n",
    "\n",
    "y_hat = hypothesis = w1_pred * x_test * x_test + w2_pred * x_test + bias\n",
    "\n",
    "plt.scatter(y_test, y_hat, alpha = 0.4)\n",
    "plt.xlabel('Actual PD')\n",
    "plt.ylabel('Predicted PD')\n",
    "plt.title('Relation of Actual PD - Predicted PD')\n",
    "plt.show()"
   ]
  },
  {
   "cell_type": "code",
   "execution_count": 19,
   "metadata": {},
   "outputs": [
    {
     "name": "stdout",
     "output_type": "stream",
     "text": [
      "0.6186185\n"
     ]
    }
   ],
   "source": [
    "def rmse(x_test, y_test):\n",
    "    y_hat = hypothesis = w1_pred * x_test * x_test + w2_pred * x_test + bias\n",
    "    error = y_hat - y_test\n",
    "    mse = np.mean(error * error)\n",
    "    rmse = np.sqrt(mse)\n",
    "    \n",
    "    return rmse\n",
    "\n",
    "print(rmse(x_test, y_test))"
   ]
  },
  {
   "cell_type": "code",
   "execution_count": null,
   "metadata": {},
   "outputs": [],
   "source": []
  }
 ],
 "metadata": {
  "kernelspec": {
   "display_name": "Python 3",
   "language": "python",
   "name": "python3"
  },
  "language_info": {
   "codemirror_mode": {
    "name": "ipython",
    "version": 3
   },
   "file_extension": ".py",
   "mimetype": "text/x-python",
   "name": "python",
   "nbconvert_exporter": "python",
   "pygments_lexer": "ipython3",
   "version": "3.7.7"
  }
 },
 "nbformat": 4,
 "nbformat_minor": 4
}
