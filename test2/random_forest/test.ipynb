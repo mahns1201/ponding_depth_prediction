{
 "cells": [
  {
   "cell_type": "code",
   "execution_count": 42,
   "metadata": {},
   "outputs": [],
   "source": [
    "import numpy as np\n",
    "import pandas as pd\n",
    "from sklearn.model_selection import train_test_split\n",
    "from sklearn.ensemble import RandomForestRegressor\n",
    "from sklearn.metrics import r2_score,mean_squared_error\n",
    "import seaborn as sns"
   ]
  },
  {
   "cell_type": "code",
   "execution_count": 96,
   "metadata": {},
   "outputs": [
    {
     "data": {
      "text/html": [
       "<div>\n",
       "<style scoped>\n",
       "    .dataframe tbody tr th:only-of-type {\n",
       "        vertical-align: middle;\n",
       "    }\n",
       "\n",
       "    .dataframe tbody tr th {\n",
       "        vertical-align: top;\n",
       "    }\n",
       "\n",
       "    .dataframe thead th {\n",
       "        text-align: right;\n",
       "    }\n",
       "</style>\n",
       "<table border=\"1\" class=\"dataframe\">\n",
       "  <thead>\n",
       "    <tr style=\"text-align: right;\">\n",
       "      <th></th>\n",
       "      <th>y</th>\n",
       "      <th>x</th>\n",
       "      <th>WL2(mm)</th>\n",
       "      <th>WL3(mm)</th>\n",
       "      <th>WL4 (mm)</th>\n",
       "      <th>WL5 (mm)</th>\n",
       "      <th>Solar (W/m2)</th>\n",
       "      <th>AirTemp (DegC)</th>\n",
       "      <th>RH (%)</th>\n",
       "    </tr>\n",
       "  </thead>\n",
       "  <tbody>\n",
       "    <tr>\n",
       "      <th>0</th>\n",
       "      <td>-1.0</td>\n",
       "      <td>124</td>\n",
       "      <td>324</td>\n",
       "      <td>50</td>\n",
       "      <td>38</td>\n",
       "      <td>56</td>\n",
       "      <td>678</td>\n",
       "      <td>25.6</td>\n",
       "      <td>64</td>\n",
       "    </tr>\n",
       "    <tr>\n",
       "      <th>1</th>\n",
       "      <td>-2.0</td>\n",
       "      <td>123</td>\n",
       "      <td>322</td>\n",
       "      <td>50</td>\n",
       "      <td>38</td>\n",
       "      <td>56</td>\n",
       "      <td>550</td>\n",
       "      <td>25.2</td>\n",
       "      <td>66</td>\n",
       "    </tr>\n",
       "    <tr>\n",
       "      <th>2</th>\n",
       "      <td>-1.0</td>\n",
       "      <td>123</td>\n",
       "      <td>322</td>\n",
       "      <td>50</td>\n",
       "      <td>38</td>\n",
       "      <td>56</td>\n",
       "      <td>71</td>\n",
       "      <td>22.9</td>\n",
       "      <td>71</td>\n",
       "    </tr>\n",
       "    <tr>\n",
       "      <th>3</th>\n",
       "      <td>-1.0</td>\n",
       "      <td>132</td>\n",
       "      <td>330</td>\n",
       "      <td>54</td>\n",
       "      <td>38</td>\n",
       "      <td>56</td>\n",
       "      <td>22</td>\n",
       "      <td>22.1</td>\n",
       "      <td>75</td>\n",
       "    </tr>\n",
       "    <tr>\n",
       "      <th>4</th>\n",
       "      <td>-1.0</td>\n",
       "      <td>130</td>\n",
       "      <td>333</td>\n",
       "      <td>55</td>\n",
       "      <td>38</td>\n",
       "      <td>57</td>\n",
       "      <td>0</td>\n",
       "      <td>19.6</td>\n",
       "      <td>96</td>\n",
       "    </tr>\n",
       "    <tr>\n",
       "      <th>...</th>\n",
       "      <td>...</td>\n",
       "      <td>...</td>\n",
       "      <td>...</td>\n",
       "      <td>...</td>\n",
       "      <td>...</td>\n",
       "      <td>...</td>\n",
       "      <td>...</td>\n",
       "      <td>...</td>\n",
       "      <td>...</td>\n",
       "    </tr>\n",
       "    <tr>\n",
       "      <th>714</th>\n",
       "      <td>-0.1</td>\n",
       "      <td>37</td>\n",
       "      <td>41</td>\n",
       "      <td>40</td>\n",
       "      <td>36</td>\n",
       "      <td>44</td>\n",
       "      <td>0</td>\n",
       "      <td>8.6</td>\n",
       "      <td>100</td>\n",
       "    </tr>\n",
       "    <tr>\n",
       "      <th>715</th>\n",
       "      <td>-0.1</td>\n",
       "      <td>37</td>\n",
       "      <td>40</td>\n",
       "      <td>39</td>\n",
       "      <td>36</td>\n",
       "      <td>44</td>\n",
       "      <td>0</td>\n",
       "      <td>13.8</td>\n",
       "      <td>84</td>\n",
       "    </tr>\n",
       "    <tr>\n",
       "      <th>716</th>\n",
       "      <td>-0.1</td>\n",
       "      <td>37</td>\n",
       "      <td>40</td>\n",
       "      <td>39</td>\n",
       "      <td>36</td>\n",
       "      <td>44</td>\n",
       "      <td>0</td>\n",
       "      <td>11.9</td>\n",
       "      <td>96</td>\n",
       "    </tr>\n",
       "    <tr>\n",
       "      <th>717</th>\n",
       "      <td>-0.1</td>\n",
       "      <td>37</td>\n",
       "      <td>41</td>\n",
       "      <td>40</td>\n",
       "      <td>36</td>\n",
       "      <td>44</td>\n",
       "      <td>0</td>\n",
       "      <td>9.1</td>\n",
       "      <td>98</td>\n",
       "    </tr>\n",
       "    <tr>\n",
       "      <th>718</th>\n",
       "      <td>-0.1</td>\n",
       "      <td>37</td>\n",
       "      <td>41</td>\n",
       "      <td>40</td>\n",
       "      <td>36</td>\n",
       "      <td>44</td>\n",
       "      <td>0</td>\n",
       "      <td>7.2</td>\n",
       "      <td>100</td>\n",
       "    </tr>\n",
       "  </tbody>\n",
       "</table>\n",
       "<p>719 rows × 9 columns</p>\n",
       "</div>"
      ],
      "text/plain": [
       "       y    x  WL2(mm)  WL3(mm)  WL4 (mm)  WL5 (mm)  Solar (W/m2)  \\\n",
       "0   -1.0  124      324       50        38        56           678   \n",
       "1   -2.0  123      322       50        38        56           550   \n",
       "2   -1.0  123      322       50        38        56            71   \n",
       "3   -1.0  132      330       54        38        56            22   \n",
       "4   -1.0  130      333       55        38        57             0   \n",
       "..   ...  ...      ...      ...       ...       ...           ...   \n",
       "714 -0.1   37       41       40        36        44             0   \n",
       "715 -0.1   37       40       39        36        44             0   \n",
       "716 -0.1   37       40       39        36        44             0   \n",
       "717 -0.1   37       41       40        36        44             0   \n",
       "718 -0.1   37       41       40        36        44             0   \n",
       "\n",
       "     AirTemp (DegC)  RH (%)  \n",
       "0              25.6      64  \n",
       "1              25.2      66  \n",
       "2              22.9      71  \n",
       "3              22.1      75  \n",
       "4              19.6      96  \n",
       "..              ...     ...  \n",
       "714             8.6     100  \n",
       "715            13.8      84  \n",
       "716            11.9      96  \n",
       "717             9.1      98  \n",
       "718             7.2     100  \n",
       "\n",
       "[719 rows x 9 columns]"
      ]
     },
     "execution_count": 96,
     "metadata": {},
     "output_type": "execute_result"
    }
   ],
   "source": [
    "df = pd.read_csv(\"dataset2_pd.csv\")\n",
    "df"
   ]
  },
  {
   "cell_type": "code",
   "execution_count": 97,
   "metadata": {},
   "outputs": [],
   "source": [
    "data = np.loadtxt(\"dataset2.csv\", delimiter = ',', dtype = np.float64)"
   ]
  },
  {
   "cell_type": "code",
   "execution_count": 98,
   "metadata": {},
   "outputs": [],
   "source": [
    "x = data[:, 1:]\n",
    "y = df.y.values.reshape(-1, 1)\n",
    "x_train, x_test, y_train, y_test = train_test_split(x, y, test_size=0.25, random_state=42)"
   ]
  },
  {
   "cell_type": "code",
   "execution_count": 99,
   "metadata": {},
   "outputs": [
    {
     "name": "stderr",
     "output_type": "stream",
     "text": [
      "c:\\users\\iars\\appdata\\local\\programs\\python\\python37\\lib\\site-packages\\ipykernel_launcher.py:2: DataConversionWarning: A column-vector y was passed when a 1d array was expected. Please change the shape of y to (n_samples,), for example using ravel().\n",
      "  \n"
     ]
    },
    {
     "data": {
      "text/plain": [
       "RandomForestRegressor()"
      ]
     },
     "execution_count": 99,
     "metadata": {},
     "output_type": "execute_result"
    }
   ],
   "source": [
    "RandomForestRegModel = RandomForestRegressor()\n",
    "RandomForestRegModel.fit(x_train, y_train)"
   ]
  },
  {
   "cell_type": "code",
   "execution_count": 100,
   "metadata": {},
   "outputs": [
    {
     "data": {
      "text/plain": [
       "array([-0.158, -0.1  , -0.158, -0.984, -0.124, -0.273, -0.1  , -0.13 ,\n",
       "       -0.106, -0.225, -0.491, -0.606, -0.147, -0.108, -0.202, -0.138,\n",
       "       -0.1  , -0.703, -0.205, -0.106, -0.122, -0.193, -0.673, -0.158,\n",
       "       -0.115, -0.145, -0.1  , -0.1  , -0.1  , -1.   , -0.178, -0.101,\n",
       "       -0.679, -0.1  , -0.129, -0.102, -0.101, -0.102, -0.103, -0.1  ,\n",
       "       -0.135, -0.1  , -1.591, -0.13 , -0.172, -0.123, -0.1  , -0.102,\n",
       "       -0.145, -0.119, -0.113, -0.185, -0.1  , -0.155, -0.1  , -0.1  ,\n",
       "       -0.115, -0.201, -0.157, -0.108, -1.82 , -0.116, -0.149, -0.105,\n",
       "       -0.311, -0.102, -0.1  , -0.181, -0.206, -0.995, -0.116, -0.459,\n",
       "       -0.1  , -0.1  , -0.177, -0.1  , -0.122, -0.559, -0.101, -0.185,\n",
       "       -0.184, -0.243, -1.   , -0.19 , -0.136, -0.788, -0.141, -0.827,\n",
       "       -0.1  , -0.115, -0.105, -0.1  , -0.1  , -0.1  , -0.101, -1.88 ,\n",
       "       -0.1  , -0.483, -0.196, -0.1  , -0.175, -1.474, -0.214, -0.118,\n",
       "       -0.118, -0.196, -0.128, -0.471, -0.501, -0.103, -0.105, -0.107,\n",
       "       -0.116, -0.131, -0.1  , -0.158, -0.1  , -1.09 , -0.133, -0.1  ,\n",
       "       -0.244, -0.166, -0.212, -0.597, -0.19 , -0.414, -0.121, -0.1  ,\n",
       "       -0.295, -0.1  , -1.3  , -0.1  , -0.627, -0.225, -1.04 , -0.722,\n",
       "       -0.127, -0.307, -0.114, -0.132, -0.209, -0.123, -0.127, -0.151,\n",
       "       -0.305, -0.149, -0.141, -0.802, -0.255, -1.   , -0.134, -0.706,\n",
       "       -0.118, -0.1  , -0.514, -0.103, -0.168, -0.137, -0.122, -0.781,\n",
       "       -0.11 , -0.589, -0.1  , -0.105, -0.211, -1.98 , -0.122, -0.109,\n",
       "       -0.101, -0.1  , -0.16 , -0.1  , -0.1  , -1.59 , -0.115, -0.18 ,\n",
       "       -0.119, -0.119, -0.1  , -0.978])"
      ]
     },
     "execution_count": 100,
     "metadata": {},
     "output_type": "execute_result"
    }
   ],
   "source": [
    "y_pred = RandomForestRegModel.predict(x_test)\n",
    "y_pred"
   ]
  },
  {
   "cell_type": "code",
   "execution_count": 101,
   "metadata": {},
   "outputs": [
    {
     "name": "stdout",
     "output_type": "stream",
     "text": [
      "0.42435680086979216\n"
     ]
    }
   ],
   "source": [
    "mse = mean_squared_error(y_test, y_pred)\n",
    "rmse = np.sqrt(mse)\n",
    "\n",
    "print(rmse)"
   ]
  },
  {
   "cell_type": "code",
   "execution_count": null,
   "metadata": {},
   "outputs": [],
   "source": []
  }
 ],
 "metadata": {
  "kernelspec": {
   "display_name": "Python 3",
   "language": "python",
   "name": "python3"
  },
  "language_info": {
   "codemirror_mode": {
    "name": "ipython",
    "version": 3
   },
   "file_extension": ".py",
   "mimetype": "text/x-python",
   "name": "python",
   "nbconvert_exporter": "python",
   "pygments_lexer": "ipython3",
   "version": "3.7.7"
  }
 },
 "nbformat": 4,
 "nbformat_minor": 4
}
