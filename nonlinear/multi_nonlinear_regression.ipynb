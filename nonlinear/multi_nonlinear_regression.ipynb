{
 "cells": [
  {
   "cell_type": "code",
   "execution_count": 3,
   "metadata": {},
   "outputs": [],
   "source": [
    "import tensorflow as tf\n",
    "import numpy as np\n",
    "import matplotlib.pyplot as plt\n",
    "import random"
   ]
  },
  {
   "cell_type": "code",
   "execution_count": 29,
   "metadata": {},
   "outputs": [],
   "source": [
    "learning_rate = 0.001\n",
    "trainning_steps = 10000\n",
    "display_step = 1000\n",
    "\n",
    "x_range = 5"
   ]
  },
  {
   "cell_type": "code",
   "execution_count": 30,
   "metadata": {},
   "outputs": [],
   "source": [
    "data = np.loadtxt(\"parsed_alldata_np.csv\", delimiter = ',', dtype = np.float32)\n",
    "\n",
    "X = data[:x_range+1]\n",
    "Y = data[-1]"
   ]
  },
  {
   "cell_type": "code",
   "execution_count": 31,
   "metadata": {},
   "outputs": [],
   "source": [
    "w = tf.Variable(tf.random.uniform([1, len(X)], 0, 1))\n",
    "b = tf.Variable(random.random())"
   ]
  },
  {
   "cell_type": "code",
   "execution_count": 35,
   "metadata": {},
   "outputs": [
    {
     "name": "stdout",
     "output_type": "stream",
     "text": [
      "<tf.Variable 'Variable:0' shape=(1, 6) dtype=float32, numpy=\n",
      "array([[-0.09600017,  0.15946333, -0.04804962, -0.04769801, -0.06825144,\n",
      "         0.10345197]], dtype=float32)>\n"
     ]
    }
   ],
   "source": [
    "print(w)"
   ]
  },
  {
   "cell_type": "code",
   "execution_count": 32,
   "metadata": {},
   "outputs": [],
   "source": [
    "def compute_loss():\n",
    "    y_pred = tf.matmul(w, X * X) + tf.matmul(w, X) + b\n",
    "    loss = tf.reduce_mean((Y - y_pred) ** 2)\n",
    "    \n",
    "    return loss"
   ]
  },
  {
   "cell_type": "code",
   "execution_count": 33,
   "metadata": {},
   "outputs": [],
   "source": [
    "optimizer = tf.optimizers.Adam(lr = learning_rate)"
   ]
  },
  {
   "cell_type": "code",
   "execution_count": 34,
   "metadata": {
    "scrolled": false
   },
   "outputs": [
    {
     "name": "stdout",
     "output_type": "stream",
     "text": [
      "1000 w: [[-0.1064032   0.18896934 -0.13411091 -0.23523729  0.00606662  0.2860004 ]] b: 0.028311998 loss: 94720.43\n",
      "2000 w: [[-0.10655002  0.18848471 -0.13287328 -0.23308092  0.00547693  0.2842829 ]] b: 0.009014905 loss: 92987.3\n",
      "3000 w: [[-0.10638852  0.187951   -0.13089238 -0.22969902  0.00395615  0.28075862]] b: -0.025188318 loss: 90583.88\n",
      "4000 w: [[-0.10611734  0.18706116 -0.12761497 -0.22405656  0.00142953  0.27489293]] b: -0.081874266 loss: 86657.375\n",
      "5000 w: [[-0.10567231  0.18561907 -0.12237547 -0.21490619 -0.002638    0.2654205 ]] b: -0.17266157 loss: 80509.33\n",
      "6000 w: [[-0.10495328  0.18333699 -0.11427426 -0.20041302 -0.00900213  0.25052178]] b: -0.3131189 loss: 71320.53\n",
      "7000 w: [[-0.10381285  0.17983589 -0.10232923 -0.17814977 -0.01857942  0.22789945]] b: -0.5194535 loss: 58486.44\n",
      "8000 w: [[-0.1020552   0.17471555 -0.08602122 -0.14552455 -0.03213415  0.19537659]] b: -0.7975219 loss: 42378.375\n",
      "9000 w: [[-0.09947559  0.16777876 -0.06649572 -0.10117655 -0.04948205  0.15253824]] b: -1.1214365 loss: 25320.031\n",
      "10000 w: [[-0.09600017  0.15946333 -0.04804962 -0.04769801 -0.06825144  0.10345197]] b: -1.4077891 loss: 11460.923\n",
      "done\n"
     ]
    }
   ],
   "source": [
    "for step in range(1, trainning_steps + 1):\n",
    "    optimizer.minimize(compute_loss, var_list = [w, b])\n",
    "    \n",
    "    if step % display_step == 0:\n",
    "        print(step, 'w:', w.numpy(), 'b:', b.numpy(), 'loss:', compute_loss().numpy())\n",
    "\n",
    "print(\"done\")"
   ]
  },
  {
   "cell_type": "code",
   "execution_count": null,
   "metadata": {},
   "outputs": [],
   "source": []
  }
 ],
 "metadata": {
  "kernelspec": {
   "display_name": "Python 3",
   "language": "python",
   "name": "python3"
  },
  "language_info": {
   "codemirror_mode": {
    "name": "ipython",
    "version": 3
   },
   "file_extension": ".py",
   "mimetype": "text/x-python",
   "name": "python",
   "nbconvert_exporter": "python",
   "pygments_lexer": "ipython3",
   "version": "3.7.7"
  }
 },
 "nbformat": 4,
 "nbformat_minor": 4
}
